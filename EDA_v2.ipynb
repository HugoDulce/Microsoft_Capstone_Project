{
 "cells": [
  {
   "cell_type": "markdown",
   "metadata": {},
   "source": [
    "# MIND Dataset EDA"
   ]
  },
  {
   "cell_type": "markdown",
   "metadata": {},
   "source": []
  },
  {
   "cell_type": "markdown",
   "metadata": {},
   "source": [
    "## Libraries, Imports, Setup"
   ]
  },
  {
   "cell_type": "code",
   "execution_count": 1,
   "metadata": {},
   "outputs": [],
   "source": [
    "import pandas as pd\n",
    "import numpy as np\n",
    "import matplotlib.pyplot as plt\n",
    "import seaborn as sns\n",
    "import plotly.express as px\n",
    "import re\n",
    "import math\n",
    "from plotly.subplots import make_subplots\n",
    "import plotly.graph_objects as go\n",
    "from collections import Counter\n",
    "import itertools\n",
    "import ast\n",
    "from sklearn.feature_extraction.text import TfidfVectorizer\n",
    "from sklearn.metrics.pairwise import cosine_similarity\n",
    "import json\n",
    "\n",
    "from nltk.corpus import stopwords\n",
    "import nltk\n",
    "from textblob import TextBlob\n",
    "import string\n",
    "from wordcloud import WordCloud\n"
   ]
  },
  {
   "cell_type": "code",
   "execution_count": 2,
   "metadata": {},
   "outputs": [
    {
     "name": "stderr",
     "output_type": "stream",
     "text": [
      "[nltk_data] Downloading package stopwords to\n",
      "[nltk_data]     /Users/christopherstephan/nltk_data...\n",
      "[nltk_data]   Package stopwords is already up-to-date!\n"
     ]
    }
   ],
   "source": [
    "# Download stopwords\n",
    "nltk.download('stopwords')\n",
    "stop_words = set(stopwords.words('english'))"
   ]
  },
  {
   "cell_type": "markdown",
   "metadata": {},
   "source": [
    "## Embeddings Files"
   ]
  },
  {
   "cell_type": "code",
   "execution_count": 3,
   "metadata": {},
   "outputs": [],
   "source": [
    "# Path to files\n",
    "entity_embedding_path = \"/Users/christopherstephan/Documents/IE/Term 3/CAPSTONE/Datasets/MINDlarge_train/entity_embedding.vec\"  \n",
    "relation_embedding_path = \"/Users/christopherstephan/Documents/IE/Term 3/CAPSTONE/Datasets/MINDlarge_train/relation_embedding.vec\""
   ]
  },
  {
   "cell_type": "code",
   "execution_count": 4,
   "metadata": {},
   "outputs": [
    {
     "name": "stdout",
     "output_type": "stream",
     "text": [
      "Q34433\t0.017808\t-0.073256\t0.102521\t-0.059926\t-0.060665\t0.027027\t-0.091728\t-0.003057\t-0.170798\t0.111819\t0.006821\t-0.049873\t-0.050532\t-0.003127\t-0.074472\t-0.115891\t-0.067093\t-0.095272\t0.019178\t-0.083725\t-0.060890\t0.017744\t0.049417\t-0.026014\t-0.048549\t0.017528\t0.044163\t0.022111\t-0.081519\t0.046278\t-0.183939\t-0.063143\t-0.014518\t-0.080644\t-0.099994\t0.085905\t-0.083003\t-0.092844\t-0.216481\t0.125441\t0.179819\t0.036735\t-0.085375\t0.021276\t-0.154971\t0.039009\t0.016059\t0.067725\t-0.148213\t0.158773\t-0.028527\t0.125790\t0.006361\t0.067541\t0.077552\t0.060792\t-0.044511\t-0.005862\t-0.068080\t-0.063204\t-0.094127\t0.115441\t-0.016472\t0.106616\t0.047839\t-0.151805\t-0.111083\t-0.142330\t-0.120680\t-0.050393\t-0.073787\t0.017424\t-0.081620\t0.062599\t-0.022102\t-0.102688\t-0.128149\t-0.075895\t0.095134\t0.000984\t0.010143\t-0.068552\t-0.026573\t0.019735\t-0.000981\t-0.126635\t0.008300\t0.170557\t0.002250\t-0.157175\t-0.077962\t0.013433\t0.045894\t-0.071253\t0.086445\t-0.120466\t0.059235\t-0.071865\t0.058854\t0.024765\t\n",
      "\n",
      "Q41\t-0.063388\t-0.181451\t0.057501\t-0.091254\t-0.076217\t-0.052525\t0.050500\t-0.224871\t-0.018145\t0.030722\t0.064276\t0.073063\t0.039489\t0.159404\t-0.128784\t0.016325\t0.026797\t0.137090\t0.001849\t-0.059103\t0.012091\t0.045418\t0.000591\t0.211337\t-0.034093\t-0.074582\t0.014004\t-0.099355\t0.170144\t0.109376\t-0.014797\t0.071172\t0.080375\t0.045563\t-0.046462\t0.070108\t0.015413\t-0.020874\t-0.170324\t-0.001130\t0.059810\t0.054342\t0.027358\t-0.028995\t-0.224508\t0.066281\t-0.200006\t0.018186\t0.082396\t0.167178\t-0.136239\t0.055134\t-0.080195\t-0.001460\t0.031078\t-0.017084\t-0.091176\t-0.036916\t0.124642\t-0.098185\t-0.054836\t0.152483\t-0.053712\t0.092816\t-0.112044\t-0.072247\t-0.114896\t-0.036541\t-0.186339\t-0.160610\t0.037342\t-0.133474\t0.110080\t0.070678\t-0.005586\t-0.046667\t-0.072010\t0.086424\t0.026165\t0.030561\t0.077888\t-0.117226\t0.211597\t0.112512\t0.079999\t-0.083398\t-0.121117\t0.071751\t-0.017654\t-0.134979\t-0.051949\t0.001861\t0.124535\t-0.151043\t-0.263698\t-0.103607\t0.020007\t-0.101157\t-0.091567\t0.035234\t\n",
      "\n",
      "Q56037\t0.021550\t-0.044888\t-0.027872\t-0.128843\t0.066651\t-0.072159\t0.019879\t-0.183956\t0.080640\t0.069166\t-0.010029\t-0.042466\t-0.045126\t-0.107250\t-0.138343\t-0.041894\t-0.089376\t0.008494\t-0.035197\t-0.019311\t0.044393\t-0.020168\t-0.119964\t0.128805\t0.069869\t-0.118373\t0.049027\t0.017122\t0.023251\t0.187165\t-0.085446\t0.057633\t0.055451\t0.019157\t-0.157557\t0.182949\t-0.064166\t-0.037344\t0.032589\t0.047193\t-0.187472\t-0.021150\t0.080669\t0.015979\t-0.141172\t0.100069\t-0.019638\t0.046921\t-0.033486\t0.153717\t-0.137174\t-0.003173\t0.148454\t-0.055801\t-0.104945\t-0.059554\t0.078643\t-0.164241\t0.074333\t-0.112893\t-0.086524\t0.139236\t0.006486\t0.081578\t-0.033565\t-0.138943\t-0.012322\t-0.125677\t-0.119072\t-0.050572\t-0.117274\t-0.139788\t0.090027\t0.005516\t0.018046\t-0.132586\t-0.114572\t0.174543\t0.035025\t0.015231\t0.122872\t0.007038\t0.019467\t-0.019752\t0.102638\t-0.091577\t-0.056262\t-0.020518\t-0.021345\t-0.080827\t-0.077181\t0.091477\t0.091388\t-0.027993\t-0.112258\t-0.231887\t0.095612\t-0.008997\t-0.157394\t0.088364\t\n",
      "\n",
      "Q1860\t0.060958\t0.069934\t0.015832\t0.079471\t-0.023362\t-0.125007\t-0.043618\t0.134063\t-0.121691\t0.089166\t0.129177\t0.148145\t0.027196\t-0.060636\t0.068760\t0.071959\t0.150306\t-0.099519\t-0.050912\t0.123948\t-0.190319\t-0.096762\t-0.006279\t-0.086810\t-0.026199\t0.017013\t0.043436\t0.058991\t-0.131758\t0.032473\t-0.137706\t-0.009527\t0.085008\t-0.060163\t0.044856\t0.030020\t-0.042486\t-0.098337\t-0.024715\t0.054446\t-0.056230\t0.161813\t-0.106716\t-0.052167\t0.013636\t0.132148\t0.044919\t0.074031\t-0.085483\t-0.083199\t-0.007451\t0.113236\t0.098931\t-0.079819\t-0.026290\t0.051472\t-0.092252\t0.068104\t0.016942\t0.009106\t-0.062264\t-0.001102\t0.050228\t0.016879\t-0.026729\t-0.051632\t-0.083040\t-0.143880\t0.066569\t-0.014793\t-0.047219\t-0.034390\t0.009343\t-0.002716\t-0.094623\t0.000528\t-0.055017\t-0.013458\t-0.038277\t-0.067144\t0.091749\t0.018254\t-0.080948\t0.062850\t0.117076\t-0.115282\t0.050163\t0.091078\t-0.166571\t0.056171\t-0.070713\t-0.014287\t0.013578\t0.099977\t0.012199\t-0.141138\t0.056129\t-0.133727\t0.025795\t0.051448\t\n",
      "\n",
      "Q7737\t-0.021237\t0.176011\t-0.078886\t0.041470\t0.136488\t-0.063177\t-0.013134\t-0.048977\t-0.072779\t0.062055\t0.158583\t0.181071\t-0.080502\t-0.061921\t-0.094876\t0.065664\t-0.021694\t-0.092245\t-0.031412\t-0.025514\t-0.008613\t-0.123416\t0.009160\t-0.035520\t0.012307\t-0.036812\t-0.051794\t0.033258\t0.034445\t0.091374\t-0.060335\t0.012610\t0.108855\t-0.054100\t-0.054447\t0.041506\t-0.030100\t0.002688\t-0.098384\t0.029283\t-0.178362\t-0.015961\t-0.030937\t-0.090683\t0.052224\t0.164800\t0.111740\t0.067277\t-0.146709\t-0.009588\t-0.075620\t0.169547\t-0.060250\t-0.209755\t-0.076133\t0.074479\t-0.238249\t-0.004997\t0.112676\t0.063407\t-0.089622\t-0.000269\t0.053938\t0.011689\t-0.047132\t0.039709\t-0.083715\t-0.130581\t0.011577\t-0.002665\t-0.115150\t-0.014943\t0.090394\t0.149829\t-0.089784\t-0.013170\t-0.067733\t0.041420\t0.114820\t-0.068595\t0.118786\t-0.048465\t-0.246352\t0.217955\t-0.038980\t-0.028710\t-0.061348\t-0.068703\t-0.001809\t-0.073306\t-0.136706\t-0.162670\t-0.101399\t0.039757\t0.123693\t-0.129503\t0.153088\t-0.014275\t-0.113625\t-0.097839\t\n",
      "\n"
     ]
    }
   ],
   "source": [
    "with open(entity_embedding_path, \"r\") as f:\n",
    "    for _ in range(5):  # Read first 5 lines\n",
    "        print(f.readline())"
   ]
  },
  {
   "cell_type": "code",
   "execution_count": 5,
   "metadata": {},
   "outputs": [
    {
     "name": "stdout",
     "output_type": "stream",
     "text": [
      "P31\t-0.073467\t-0.132227\t0.034173\t-0.032769\t0.008289\t-0.107088\t-0.031712\t-0.039581\t0.101882\t-0.106961\t-0.053441\t0.068202\t-0.045584\t-0.140448\t-0.079402\t0.001022\t0.059921\t-0.062510\t0.102848\t0.077947\t-0.063644\t0.050070\t-0.019180\t0.064456\t-0.052222\t0.071078\t-0.036413\t-0.039235\t0.137947\t0.067378\t-0.137468\t0.103482\t0.121755\t-0.006587\t0.063077\t-0.024954\t-0.031300\t-0.056833\t-0.139115\t-0.053570\t0.165815\t-0.022143\t0.006561\t-0.108691\t-0.149139\t0.080943\t0.054542\t-0.034564\t0.082343\t-0.095843\t-0.068758\t0.013850\t-0.025589\t-0.012451\t0.116367\t-0.066981\t-0.006472\t0.136078\t-0.057084\t-0.066427\t-0.035916\t-0.028447\t-0.070395\t-0.052364\t-0.040038\t0.037342\t-0.073347\t0.112529\t0.106537\t0.107426\t0.086297\t0.085833\t0.054393\t0.053187\t0.066242\t0.058507\t-0.047180\t-0.086089\t0.050148\t0.053491\t-0.042370\t-0.110435\t-0.058929\t0.063987\t-0.037393\t-0.057942\t-0.032128\t0.141226\t-0.106979\t0.072183\t-0.045641\t-0.050068\t-0.053686\t-0.045389\t-0.037017\t0.117190\t-0.063597\t-0.056910\t0.058387\t-0.114056\t\n",
      "\n",
      "P21\t-0.078436\t0.108589\t-0.049429\t-0.131355\t0.049300\t-0.094605\t-0.101469\t0.127802\t-0.081245\t0.113759\t-0.171865\t0.049044\t0.141462\t0.117907\t0.040574\t-0.057788\t-0.146715\t-0.085228\t0.020211\t-0.121010\t-0.100422\t-0.081288\t0.031696\t-0.060593\t-0.072303\t0.139442\t-0.133374\t-0.120222\t0.050400\t0.119134\t-0.082276\t0.050498\t-0.108097\t0.045905\t0.118079\t0.069211\t-0.049801\t-0.106901\t0.133158\t-0.065444\t-0.085254\t0.040706\t0.007894\t0.034556\t0.139081\t0.025119\t0.122081\t0.154464\t0.099593\t-0.040400\t0.075233\t0.096659\t0.032061\t-0.154013\t0.085069\t-0.144027\t-0.069370\t0.079479\t0.090121\t-0.154897\t-0.127340\t-0.031645\t-0.093840\t0.123652\t-0.134066\t0.066089\t-0.159245\t0.069276\t0.074938\t-0.129573\t0.076426\t-0.144846\t0.147408\t0.106457\t-0.079138\t0.081598\t-0.132508\t0.102217\t0.117162\t-0.064613\t-0.120491\t-0.075478\t0.013671\t-0.056833\t0.086815\t-0.111679\t0.051020\t0.094203\t-0.092261\t-0.147404\t-0.151203\t0.074341\t-0.030571\t-0.137183\t0.045598\t-0.151155\t-0.066223\t0.057489\t0.130188\t-0.054801\t\n",
      "\n",
      "P106\t-0.052137\t0.052444\t-0.019886\t-0.152309\t0.014144\t-0.180491\t-0.132198\t0.063082\t0.085229\t0.114965\t0.023285\t0.074741\t-0.049949\t-0.082051\t-0.159896\t0.035493\t-0.113929\t-0.111878\t-0.139555\t-0.106166\t-0.011966\t0.154562\t-0.096405\t0.131268\t-0.068482\t0.185240\t-0.072894\t-0.114885\t-0.056082\t0.112026\t0.048216\t0.098032\t-0.098028\t-0.106606\t0.078594\t-0.102013\t-0.001059\t-0.145055\t0.000003\t-0.047816\t0.079029\t-0.078351\t-0.016361\t-0.000218\t-0.038627\t0.057308\t0.036923\t-0.073602\t-0.072402\t0.001785\t-0.002824\t-0.060708\t-0.002136\t-0.017358\t0.059936\t-0.133305\t-0.034796\t-0.075657\t0.147320\t-0.133039\t-0.149887\t0.052375\t0.024344\t0.050036\t-0.146324\t0.075327\t-0.135969\t0.031892\t0.049475\t-0.106037\t0.088477\t-0.185415\t0.105080\t0.107440\t-0.028200\t-0.121917\t-0.165206\t0.026541\t0.125522\t0.080844\t-0.178644\t-0.060746\t-0.078724\t-0.009305\t0.088131\t-0.097797\t-0.155246\t-0.030237\t-0.017188\t0.070897\t-0.088902\t-0.058958\t-0.032021\t-0.147213\t0.082776\t-0.169705\t0.122445\t-0.054737\t0.055321\t0.070961\t\n",
      "\n",
      "P735\t-0.051398\t0.056219\t0.068029\t-0.137717\t-0.030050\t0.061566\t-0.103184\t-0.074124\t-0.118975\t0.122100\t0.090664\t0.050602\t-0.023321\t0.135801\t0.082776\t0.134691\t-0.093377\t-0.100187\t0.060942\t0.058473\t0.065260\t-0.049564\t0.013162\t-0.047667\t-0.054335\t0.123371\t-0.145068\t0.015066\t0.045329\t0.131864\t0.062462\t-0.106206\t-0.117788\t-0.050399\t0.019886\t-0.046332\t0.082650\t0.060583\t0.169631\t0.108123\t-0.030897\t0.046386\t-0.014420\t-0.053038\t0.157436\t-0.021491\t0.087635\t-0.051152\t0.054433\t0.121686\t0.037487\t0.044515\t-0.079680\t-0.114405\t0.029875\t-0.124201\t-0.094803\t0.017489\t0.111024\t-0.108676\t0.011377\t0.143746\t-0.180618\t-0.052341\t-0.118239\t-0.081315\t-0.111308\t0.058716\t-0.111563\t-0.222551\t-0.019004\t-0.102315\t0.269483\t-0.023461\t0.046179\t0.050954\t-0.020268\t-0.085623\t-0.011426\t-0.110763\t-0.158052\t0.104254\t-0.097153\t0.060086\t-0.050420\t-0.121439\t-0.112373\t-0.028001\t0.076174\t-0.132399\t-0.096461\t-0.092234\t0.056870\t0.013640\t0.042696\t0.013683\t-0.021127\t-0.189257\t0.055315\t0.101863\t\n",
      "\n",
      "P108\t0.091231\t0.022526\t0.059349\t-0.141853\t0.035025\t-0.111040\t-0.127337\t0.047645\t-0.172328\t0.090933\t0.022216\t0.079914\t0.043736\t-0.096588\t-0.242773\t-0.039824\t-0.078472\t-0.190807\t-0.075510\t-0.011143\t-0.004291\t-0.109142\t-0.055437\t0.139692\t-0.032522\t0.124695\t-0.054761\t-0.046256\t-0.115983\t0.098595\t-0.087121\t-0.029367\t-0.108338\t-0.021720\t-0.028068\t0.029053\t-0.128703\t-0.103341\t-0.139387\t0.134218\t0.207785\t-0.022484\t0.049616\t0.144433\t-0.102246\t-0.064737\t0.094036\t0.059295\t-0.120209\t0.079042\t0.105340\t0.083430\t-0.007747\t0.033792\t-0.025764\t-0.043842\t0.013634\t-0.119388\t0.001556\t-0.057961\t-0.081745\t0.092388\t-0.053616\t0.095690\t-0.001889\t-0.154143\t-0.177890\t-0.131440\t-0.219218\t-0.111252\t-0.104790\t0.067291\t0.130789\t0.144343\t-0.105937\t-0.070367\t-0.152791\t-0.079241\t0.008933\t0.107746\t0.076368\t-0.071356\t-0.056110\t-0.030554\t-0.087335\t-0.108328\t-0.039597\t0.074101\t0.094331\t-0.088390\t0.026855\t-0.046994\t-0.056248\t-0.146538\t0.121375\t-0.211757\t0.077591\t-0.002200\t-0.053880\t0.140873\t\n",
      "\n"
     ]
    }
   ],
   "source": [
    "with open(relation_embedding_path, \"r\") as f:\n",
    "    for _ in range(5):  # Read first 5 lines\n",
    "        print(f.readline())"
   ]
  },
  {
   "cell_type": "code",
   "execution_count": 6,
   "metadata": {},
   "outputs": [
    {
     "name": "stdout",
     "output_type": "stream",
     "text": [
      "[ 0.017808 -0.073256  0.102521 -0.059926 -0.060665  0.027027 -0.091728\n",
      " -0.003057 -0.170798  0.111819  0.006821 -0.049873 -0.050532 -0.003127\n",
      " -0.074472 -0.115891 -0.067093 -0.095272  0.019178 -0.083725 -0.06089\n",
      "  0.017744  0.049417 -0.026014 -0.048549  0.017528  0.044163  0.022111\n",
      " -0.081519  0.046278 -0.183939 -0.063143 -0.014518 -0.080644 -0.099994\n",
      "  0.085905 -0.083003 -0.092844 -0.216481  0.125441  0.179819  0.036735\n",
      " -0.085375  0.021276 -0.154971  0.039009  0.016059  0.067725 -0.148213\n",
      "  0.158773 -0.028527  0.12579   0.006361  0.067541  0.077552  0.060792\n",
      " -0.044511 -0.005862 -0.06808  -0.063204 -0.094127  0.115441 -0.016472\n",
      "  0.106616  0.047839 -0.151805 -0.111083 -0.14233  -0.12068  -0.050393\n",
      " -0.073787  0.017424 -0.08162   0.062599 -0.022102 -0.102688 -0.128149\n",
      " -0.075895  0.095134  0.000984  0.010143 -0.068552 -0.026573  0.019735\n",
      " -0.000981 -0.126635  0.0083    0.170557  0.00225  -0.157175 -0.077962\n",
      "  0.013433  0.045894 -0.071253  0.086445 -0.120466  0.059235 -0.071865\n",
      "  0.058854  0.024765]\n"
     ]
    }
   ],
   "source": [
    "# Load entity embeddings\n",
    "entity_embeddings = {}\n",
    "with open(entity_embedding_path, \"r\") as f:\n",
    "    for line in f:\n",
    "        values = line.strip().split()\n",
    "        entity = values[0]  # First value is entity name\n",
    "        vector = np.array(values[1:], dtype=np.float32)  # Rest are vector values\n",
    "        entity_embeddings[entity] = vector\n",
    "\n",
    "# Example: Get vector for a specific entity\n",
    "print(entity_embeddings[\"Q34433\"])  # Example output: [0.12, 0.53, -0.34, ...]"
   ]
  },
  {
   "cell_type": "code",
   "execution_count": 7,
   "metadata": {},
   "outputs": [
    {
     "name": "stdout",
     "output_type": "stream",
     "text": [
      "[-0.073467 -0.132227  0.034173 -0.032769  0.008289 -0.107088 -0.031712\n",
      " -0.039581  0.101882 -0.106961 -0.053441  0.068202 -0.045584 -0.140448\n",
      " -0.079402  0.001022  0.059921 -0.06251   0.102848  0.077947 -0.063644\n",
      "  0.05007  -0.01918   0.064456 -0.052222  0.071078 -0.036413 -0.039235\n",
      "  0.137947  0.067378 -0.137468  0.103482  0.121755 -0.006587  0.063077\n",
      " -0.024954 -0.0313   -0.056833 -0.139115 -0.05357   0.165815 -0.022143\n",
      "  0.006561 -0.108691 -0.149139  0.080943  0.054542 -0.034564  0.082343\n",
      " -0.095843 -0.068758  0.01385  -0.025589 -0.012451  0.116367 -0.066981\n",
      " -0.006472  0.136078 -0.057084 -0.066427 -0.035916 -0.028447 -0.070395\n",
      " -0.052364 -0.040038  0.037342 -0.073347  0.112529  0.106537  0.107426\n",
      "  0.086297  0.085833  0.054393  0.053187  0.066242  0.058507 -0.04718\n",
      " -0.086089  0.050148  0.053491 -0.04237  -0.110435 -0.058929  0.063987\n",
      " -0.037393 -0.057942 -0.032128  0.141226 -0.106979  0.072183 -0.045641\n",
      " -0.050068 -0.053686 -0.045389 -0.037017  0.11719  -0.063597 -0.05691\n",
      "  0.058387 -0.114056]\n"
     ]
    }
   ],
   "source": [
    "# Load relation embeddings\n",
    "relation_embeddings = {}\n",
    "with open(relation_embedding_path, \"r\") as f:\n",
    "    for line in f:\n",
    "        values = line.strip().split()\n",
    "        entity = values[0]  # First value is entity name\n",
    "        vector = np.array(values[1:], dtype=np.float32)  # Rest are vector values\n",
    "        relation_embeddings[entity] = vector\n",
    "\n",
    "# Example: Get vector for a specific entity\n",
    "print(relation_embeddings[\"P31\"])  # Example output: [0.12, 0.53, -0.34, ...]"
   ]
  },
  {
   "cell_type": "markdown",
   "metadata": {},
   "source": [
    "## First Overview - Behaviours & News "
   ]
  },
  {
   "cell_type": "code",
   "execution_count": 8,
   "metadata": {},
   "outputs": [],
   "source": [
    "# Creating the path to the training dataset\n",
    "behaviours_train_path = \"/Users/christopherstephan/Documents/IE/Term 3/CAPSTONE/Datasets/MINDlarge_train/behaviors.tsv\"  \n",
    "news_train_path = \"/Users/christopherstephan/Documents/IE/Term 3/CAPSTONE/Datasets/MINDlarge_train/news.tsv\"\n",
    "\n",
    "# Loading TSV file from the specified path\n",
    "behaviours = pd.read_csv(behaviours_train_path, sep=\"\\t\", header=None)\n",
    "news = pd.read_csv(news_train_path, sep=\"\\t\", header=None)"
   ]
  },
  {
   "cell_type": "code",
   "execution_count": 9,
   "metadata": {},
   "outputs": [],
   "source": [
    "# Define the Column Names for the datasets\n",
    "behaviours.columns = [\"impression_id\", \"user_id\", \"time\", \"history\", \"impressions\"]\n",
    "news.columns = [\"news_id\", \"category\", \"subcategory\", \"title\", \"abstract\", \"url\", \"title_entities\", \"abstract_entities\"]"
   ]
  },
  {
   "cell_type": "code",
   "execution_count": 12,
   "metadata": {},
   "outputs": [
    {
     "data": {
      "text/html": [
       "<div>\n",
       "<style scoped>\n",
       "    .dataframe tbody tr th:only-of-type {\n",
       "        vertical-align: middle;\n",
       "    }\n",
       "\n",
       "    .dataframe tbody tr th {\n",
       "        vertical-align: top;\n",
       "    }\n",
       "\n",
       "    .dataframe thead th {\n",
       "        text-align: right;\n",
       "    }\n",
       "</style>\n",
       "<table border=\"1\" class=\"dataframe\">\n",
       "  <thead>\n",
       "    <tr style=\"text-align: right;\">\n",
       "      <th></th>\n",
       "      <th>impression_id</th>\n",
       "      <th>user_id</th>\n",
       "      <th>time</th>\n",
       "      <th>history</th>\n",
       "      <th>impressions</th>\n",
       "    </tr>\n",
       "  </thead>\n",
       "  <tbody>\n",
       "    <tr>\n",
       "      <th>0</th>\n",
       "      <td>1</td>\n",
       "      <td>U87243</td>\n",
       "      <td>11/10/2019 11:30:54 AM</td>\n",
       "      <td>N8668 N39081 N65259 N79529 N73408 N43615 N2937...</td>\n",
       "      <td>N78206-0 N26368-0 N7578-0 N58592-0 N19858-0 N5...</td>\n",
       "    </tr>\n",
       "    <tr>\n",
       "      <th>1</th>\n",
       "      <td>2</td>\n",
       "      <td>U598644</td>\n",
       "      <td>11/12/2019 1:45:29 PM</td>\n",
       "      <td>N56056 N8726 N70353 N67998 N83823 N111108 N107...</td>\n",
       "      <td>N47996-0 N82719-0 N117066-0 N8491-0 N123784-0 ...</td>\n",
       "    </tr>\n",
       "    <tr>\n",
       "      <th>2</th>\n",
       "      <td>3</td>\n",
       "      <td>U532401</td>\n",
       "      <td>11/13/2019 11:23:03 AM</td>\n",
       "      <td>N128643 N87446 N122948 N9375 N82348 N129412 N5...</td>\n",
       "      <td>N103852-0 N53474-0 N127836-0 N47925-1</td>\n",
       "    </tr>\n",
       "    <tr>\n",
       "      <th>3</th>\n",
       "      <td>4</td>\n",
       "      <td>U593596</td>\n",
       "      <td>11/12/2019 12:24:09 PM</td>\n",
       "      <td>N31043 N39592 N4104 N8223 N114581 N92747 N1207...</td>\n",
       "      <td>N38902-0 N76434-0 N71593-0 N100073-0 N108736-0...</td>\n",
       "    </tr>\n",
       "    <tr>\n",
       "      <th>4</th>\n",
       "      <td>5</td>\n",
       "      <td>U239687</td>\n",
       "      <td>11/14/2019 8:03:01 PM</td>\n",
       "      <td>N65250 N122359 N71723 N53796 N41663 N41484 N11...</td>\n",
       "      <td>N76209-0 N48841-0 N67937-0 N62235-0 N6307-0 N3...</td>\n",
       "    </tr>\n",
       "  </tbody>\n",
       "</table>\n",
       "</div>"
      ],
      "text/plain": [
       "   impression_id  user_id                    time  \\\n",
       "0              1   U87243  11/10/2019 11:30:54 AM   \n",
       "1              2  U598644   11/12/2019 1:45:29 PM   \n",
       "2              3  U532401  11/13/2019 11:23:03 AM   \n",
       "3              4  U593596  11/12/2019 12:24:09 PM   \n",
       "4              5  U239687   11/14/2019 8:03:01 PM   \n",
       "\n",
       "                                             history  \\\n",
       "0  N8668 N39081 N65259 N79529 N73408 N43615 N2937...   \n",
       "1  N56056 N8726 N70353 N67998 N83823 N111108 N107...   \n",
       "2  N128643 N87446 N122948 N9375 N82348 N129412 N5...   \n",
       "3  N31043 N39592 N4104 N8223 N114581 N92747 N1207...   \n",
       "4  N65250 N122359 N71723 N53796 N41663 N41484 N11...   \n",
       "\n",
       "                                         impressions  \n",
       "0  N78206-0 N26368-0 N7578-0 N58592-0 N19858-0 N5...  \n",
       "1  N47996-0 N82719-0 N117066-0 N8491-0 N123784-0 ...  \n",
       "2              N103852-0 N53474-0 N127836-0 N47925-1  \n",
       "3  N38902-0 N76434-0 N71593-0 N100073-0 N108736-0...  \n",
       "4  N76209-0 N48841-0 N67937-0 N62235-0 N6307-0 N3...  "
      ]
     },
     "execution_count": 12,
     "metadata": {},
     "output_type": "execute_result"
    }
   ],
   "source": [
    "behaviours.head()"
   ]
  },
  {
   "cell_type": "code",
   "execution_count": 13,
   "metadata": {},
   "outputs": [
    {
     "data": {
      "text/html": [
       "<div>\n",
       "<style scoped>\n",
       "    .dataframe tbody tr th:only-of-type {\n",
       "        vertical-align: middle;\n",
       "    }\n",
       "\n",
       "    .dataframe tbody tr th {\n",
       "        vertical-align: top;\n",
       "    }\n",
       "\n",
       "    .dataframe thead th {\n",
       "        text-align: right;\n",
       "    }\n",
       "</style>\n",
       "<table border=\"1\" class=\"dataframe\">\n",
       "  <thead>\n",
       "    <tr style=\"text-align: right;\">\n",
       "      <th></th>\n",
       "      <th>news_id</th>\n",
       "      <th>category</th>\n",
       "      <th>subcategory</th>\n",
       "      <th>title</th>\n",
       "      <th>abstract</th>\n",
       "      <th>url</th>\n",
       "      <th>title_entities</th>\n",
       "      <th>abstract_entities</th>\n",
       "    </tr>\n",
       "  </thead>\n",
       "  <tbody>\n",
       "    <tr>\n",
       "      <th>0</th>\n",
       "      <td>N88753</td>\n",
       "      <td>lifestyle</td>\n",
       "      <td>lifestyleroyals</td>\n",
       "      <td>The Brands Queen Elizabeth, Prince Charles, an...</td>\n",
       "      <td>Shop the notebooks, jackets, and more that the...</td>\n",
       "      <td>https://assets.msn.com/labs/mind/AAGH0ET.html</td>\n",
       "      <td>[{\"Label\": \"Prince Philip, Duke of Edinburgh\",...</td>\n",
       "      <td>[]</td>\n",
       "    </tr>\n",
       "    <tr>\n",
       "      <th>1</th>\n",
       "      <td>N45436</td>\n",
       "      <td>news</td>\n",
       "      <td>newsscienceandtechnology</td>\n",
       "      <td>Walmart Slashes Prices on Last-Generation iPads</td>\n",
       "      <td>Apple's new iPad releases bring big deals on l...</td>\n",
       "      <td>https://assets.msn.com/labs/mind/AABmf2I.html</td>\n",
       "      <td>[{\"Label\": \"IPad\", \"Type\": \"J\", \"WikidataId\": ...</td>\n",
       "      <td>[{\"Label\": \"IPad\", \"Type\": \"J\", \"WikidataId\": ...</td>\n",
       "    </tr>\n",
       "    <tr>\n",
       "      <th>2</th>\n",
       "      <td>N23144</td>\n",
       "      <td>health</td>\n",
       "      <td>weightloss</td>\n",
       "      <td>50 Worst Habits For Belly Fat</td>\n",
       "      <td>These seemingly harmless habits are holding yo...</td>\n",
       "      <td>https://assets.msn.com/labs/mind/AAB19MK.html</td>\n",
       "      <td>[{\"Label\": \"Adipose tissue\", \"Type\": \"C\", \"Wik...</td>\n",
       "      <td>[{\"Label\": \"Adipose tissue\", \"Type\": \"C\", \"Wik...</td>\n",
       "    </tr>\n",
       "    <tr>\n",
       "      <th>3</th>\n",
       "      <td>N86255</td>\n",
       "      <td>health</td>\n",
       "      <td>medical</td>\n",
       "      <td>Dispose of unwanted prescription drugs during ...</td>\n",
       "      <td>NaN</td>\n",
       "      <td>https://assets.msn.com/labs/mind/AAISxPN.html</td>\n",
       "      <td>[{\"Label\": \"Drug Enforcement Administration\", ...</td>\n",
       "      <td>[]</td>\n",
       "    </tr>\n",
       "    <tr>\n",
       "      <th>4</th>\n",
       "      <td>N93187</td>\n",
       "      <td>news</td>\n",
       "      <td>newsworld</td>\n",
       "      <td>The Cost of Trump's Aid Freeze in the Trenches...</td>\n",
       "      <td>Lt. Ivan Molchanets peeked over a parapet of s...</td>\n",
       "      <td>https://assets.msn.com/labs/mind/AAJgNsz.html</td>\n",
       "      <td>[]</td>\n",
       "      <td>[{\"Label\": \"Ukraine\", \"Type\": \"G\", \"WikidataId...</td>\n",
       "    </tr>\n",
       "  </tbody>\n",
       "</table>\n",
       "</div>"
      ],
      "text/plain": [
       "  news_id   category               subcategory  \\\n",
       "0  N88753  lifestyle           lifestyleroyals   \n",
       "1  N45436       news  newsscienceandtechnology   \n",
       "2  N23144     health                weightloss   \n",
       "3  N86255     health                   medical   \n",
       "4  N93187       news                 newsworld   \n",
       "\n",
       "                                               title  \\\n",
       "0  The Brands Queen Elizabeth, Prince Charles, an...   \n",
       "1    Walmart Slashes Prices on Last-Generation iPads   \n",
       "2                      50 Worst Habits For Belly Fat   \n",
       "3  Dispose of unwanted prescription drugs during ...   \n",
       "4  The Cost of Trump's Aid Freeze in the Trenches...   \n",
       "\n",
       "                                            abstract  \\\n",
       "0  Shop the notebooks, jackets, and more that the...   \n",
       "1  Apple's new iPad releases bring big deals on l...   \n",
       "2  These seemingly harmless habits are holding yo...   \n",
       "3                                                NaN   \n",
       "4  Lt. Ivan Molchanets peeked over a parapet of s...   \n",
       "\n",
       "                                             url  \\\n",
       "0  https://assets.msn.com/labs/mind/AAGH0ET.html   \n",
       "1  https://assets.msn.com/labs/mind/AABmf2I.html   \n",
       "2  https://assets.msn.com/labs/mind/AAB19MK.html   \n",
       "3  https://assets.msn.com/labs/mind/AAISxPN.html   \n",
       "4  https://assets.msn.com/labs/mind/AAJgNsz.html   \n",
       "\n",
       "                                      title_entities  \\\n",
       "0  [{\"Label\": \"Prince Philip, Duke of Edinburgh\",...   \n",
       "1  [{\"Label\": \"IPad\", \"Type\": \"J\", \"WikidataId\": ...   \n",
       "2  [{\"Label\": \"Adipose tissue\", \"Type\": \"C\", \"Wik...   \n",
       "3  [{\"Label\": \"Drug Enforcement Administration\", ...   \n",
       "4                                                 []   \n",
       "\n",
       "                                   abstract_entities  \n",
       "0                                                 []  \n",
       "1  [{\"Label\": \"IPad\", \"Type\": \"J\", \"WikidataId\": ...  \n",
       "2  [{\"Label\": \"Adipose tissue\", \"Type\": \"C\", \"Wik...  \n",
       "3                                                 []  \n",
       "4  [{\"Label\": \"Ukraine\", \"Type\": \"G\", \"WikidataId...  "
      ]
     },
     "execution_count": 13,
     "metadata": {},
     "output_type": "execute_result"
    }
   ],
   "source": [
    "news.head()"
   ]
  },
  {
   "cell_type": "code",
   "execution_count": 14,
   "metadata": {},
   "outputs": [
    {
     "name": "stdout",
     "output_type": "stream",
     "text": [
      "The shape of the behaviours dataset is (2232748, 5)\n",
      "The shape of the news dataset is (101527, 8)\n"
     ]
    }
   ],
   "source": [
    "#Extracting the total rows and columns in our datasets\n",
    "print(f\"The shape of the behaviours dataset is {behaviours.shape}\")\n",
    "print(f\"The shape of the news dataset is {news.shape}\")"
   ]
  },
  {
   "cell_type": "code",
   "execution_count": 15,
   "metadata": {},
   "outputs": [
    {
     "data": {
      "text/plain": [
       "impression_id     int64\n",
       "user_id          object\n",
       "time             object\n",
       "history          object\n",
       "impressions      object\n",
       "dtype: object"
      ]
     },
     "execution_count": 15,
     "metadata": {},
     "output_type": "execute_result"
    }
   ],
   "source": [
    "#Cheacking the column types in our dataset\n",
    "behaviours.dtypes"
   ]
  },
  {
   "cell_type": "code",
   "execution_count": 16,
   "metadata": {},
   "outputs": [
    {
     "data": {
      "text/plain": [
       "news_id              object\n",
       "category             object\n",
       "subcategory          object\n",
       "title                object\n",
       "abstract             object\n",
       "url                  object\n",
       "title_entities       object\n",
       "abstract_entities    object\n",
       "dtype: object"
      ]
     },
     "execution_count": 16,
     "metadata": {},
     "output_type": "execute_result"
    }
   ],
   "source": [
    "#Cheacking the column types in our dataset\n",
    "news.dtypes"
   ]
  },
  {
   "cell_type": "code",
   "execution_count": 17,
   "metadata": {},
   "outputs": [
    {
     "name": "stdout",
     "output_type": "stream",
     "text": [
      "There are 0 duplicated rows in our training dataset.\n",
      "There are 0 duplicated rows in our training dataset.\n"
     ]
    }
   ],
   "source": [
    "#Checking if any of the rows are duplicated in the dataset\n",
    "print(f'There are {behaviours.duplicated().sum()} duplicated rows in our training dataset.')\n",
    "print(f'There are {news.duplicated().sum()} duplicated rows in our training dataset.')"
   ]
  },
  {
   "cell_type": "code",
   "execution_count": 18,
   "metadata": {},
   "outputs": [
    {
     "data": {
      "text/plain": [
       "impression_id    0.000000\n",
       "user_id          0.000000\n",
       "time             0.000000\n",
       "history          0.020632\n",
       "impressions      0.000000\n",
       "dtype: float64"
      ]
     },
     "execution_count": 18,
     "metadata": {},
     "output_type": "execute_result"
    }
   ],
   "source": [
    "#Check if there are any missing values\n",
    "behaviours.isna().mean()"
   ]
  },
  {
   "cell_type": "code",
   "execution_count": 19,
   "metadata": {},
   "outputs": [
    {
     "data": {
      "text/plain": [
       "news_id              0.000000\n",
       "category             0.000000\n",
       "subcategory          0.000000\n",
       "title                0.000000\n",
       "abstract             0.053336\n",
       "url                  0.000000\n",
       "title_entities       0.000030\n",
       "abstract_entities    0.000059\n",
       "dtype: float64"
      ]
     },
     "execution_count": 19,
     "metadata": {},
     "output_type": "execute_result"
    }
   ],
   "source": [
    "#Check if there are any missing values\n",
    "news.isna().mean()"
   ]
  },
  {
   "cell_type": "code",
   "execution_count": 20,
   "metadata": {},
   "outputs": [
    {
     "data": {
      "text/html": [
       "<div>\n",
       "<style scoped>\n",
       "    .dataframe tbody tr th:only-of-type {\n",
       "        vertical-align: middle;\n",
       "    }\n",
       "\n",
       "    .dataframe tbody tr th {\n",
       "        vertical-align: top;\n",
       "    }\n",
       "\n",
       "    .dataframe thead th {\n",
       "        text-align: right;\n",
       "    }\n",
       "</style>\n",
       "<table border=\"1\" class=\"dataframe\">\n",
       "  <thead>\n",
       "    <tr style=\"text-align: right;\">\n",
       "      <th></th>\n",
       "      <th>impression_id</th>\n",
       "    </tr>\n",
       "  </thead>\n",
       "  <tbody>\n",
       "    <tr>\n",
       "      <th>count</th>\n",
       "      <td>2.232748e+06</td>\n",
       "    </tr>\n",
       "    <tr>\n",
       "      <th>mean</th>\n",
       "      <td>1.116374e+06</td>\n",
       "    </tr>\n",
       "    <tr>\n",
       "      <th>std</th>\n",
       "      <td>6.445390e+05</td>\n",
       "    </tr>\n",
       "    <tr>\n",
       "      <th>min</th>\n",
       "      <td>1.000000e+00</td>\n",
       "    </tr>\n",
       "    <tr>\n",
       "      <th>25%</th>\n",
       "      <td>5.581878e+05</td>\n",
       "    </tr>\n",
       "    <tr>\n",
       "      <th>50%</th>\n",
       "      <td>1.116374e+06</td>\n",
       "    </tr>\n",
       "    <tr>\n",
       "      <th>75%</th>\n",
       "      <td>1.674561e+06</td>\n",
       "    </tr>\n",
       "    <tr>\n",
       "      <th>max</th>\n",
       "      <td>2.232748e+06</td>\n",
       "    </tr>\n",
       "  </tbody>\n",
       "</table>\n",
       "</div>"
      ],
      "text/plain": [
       "       impression_id\n",
       "count   2.232748e+06\n",
       "mean    1.116374e+06\n",
       "std     6.445390e+05\n",
       "min     1.000000e+00\n",
       "25%     5.581878e+05\n",
       "50%     1.116374e+06\n",
       "75%     1.674561e+06\n",
       "max     2.232748e+06"
      ]
     },
     "execution_count": 20,
     "metadata": {},
     "output_type": "execute_result"
    }
   ],
   "source": [
    "behaviours.describe()"
   ]
  },
  {
   "cell_type": "code",
   "execution_count": 21,
   "metadata": {},
   "outputs": [
    {
     "data": {
      "text/html": [
       "<div>\n",
       "<style scoped>\n",
       "    .dataframe tbody tr th:only-of-type {\n",
       "        vertical-align: middle;\n",
       "    }\n",
       "\n",
       "    .dataframe tbody tr th {\n",
       "        vertical-align: top;\n",
       "    }\n",
       "\n",
       "    .dataframe thead th {\n",
       "        text-align: right;\n",
       "    }\n",
       "</style>\n",
       "<table border=\"1\" class=\"dataframe\">\n",
       "  <thead>\n",
       "    <tr style=\"text-align: right;\">\n",
       "      <th></th>\n",
       "      <th>news_id</th>\n",
       "      <th>category</th>\n",
       "      <th>subcategory</th>\n",
       "      <th>title</th>\n",
       "      <th>abstract</th>\n",
       "      <th>url</th>\n",
       "      <th>title_entities</th>\n",
       "      <th>abstract_entities</th>\n",
       "    </tr>\n",
       "  </thead>\n",
       "  <tbody>\n",
       "    <tr>\n",
       "      <th>count</th>\n",
       "      <td>101527</td>\n",
       "      <td>101527</td>\n",
       "      <td>101527</td>\n",
       "      <td>101527</td>\n",
       "      <td>96112</td>\n",
       "      <td>101527</td>\n",
       "      <td>101524</td>\n",
       "      <td>101521</td>\n",
       "    </tr>\n",
       "    <tr>\n",
       "      <th>unique</th>\n",
       "      <td>101527</td>\n",
       "      <td>18</td>\n",
       "      <td>285</td>\n",
       "      <td>98388</td>\n",
       "      <td>91654</td>\n",
       "      <td>101526</td>\n",
       "      <td>66863</td>\n",
       "      <td>72168</td>\n",
       "    </tr>\n",
       "    <tr>\n",
       "      <th>top</th>\n",
       "      <td>N88753</td>\n",
       "      <td>sports</td>\n",
       "      <td>newsus</td>\n",
       "      <td>Powerball Winning Numbers For 10/26/2019 Drawi...</td>\n",
       "      <td>What's the weather today? What's the weather f...</td>\n",
       "      <td>[]</td>\n",
       "      <td>[]</td>\n",
       "      <td>[]</td>\n",
       "    </tr>\n",
       "    <tr>\n",
       "      <th>freq</th>\n",
       "      <td>1</td>\n",
       "      <td>32020</td>\n",
       "      <td>14467</td>\n",
       "      <td>27</td>\n",
       "      <td>435</td>\n",
       "      <td>2</td>\n",
       "      <td>26053</td>\n",
       "      <td>25480</td>\n",
       "    </tr>\n",
       "  </tbody>\n",
       "</table>\n",
       "</div>"
      ],
      "text/plain": [
       "       news_id category subcategory  \\\n",
       "count   101527   101527      101527   \n",
       "unique  101527       18         285   \n",
       "top     N88753   sports      newsus   \n",
       "freq         1    32020       14467   \n",
       "\n",
       "                                                    title  \\\n",
       "count                                              101527   \n",
       "unique                                              98388   \n",
       "top     Powerball Winning Numbers For 10/26/2019 Drawi...   \n",
       "freq                                                   27   \n",
       "\n",
       "                                                 abstract     url  \\\n",
       "count                                               96112  101527   \n",
       "unique                                              91654  101526   \n",
       "top     What's the weather today? What's the weather f...      []   \n",
       "freq                                                  435       2   \n",
       "\n",
       "       title_entities abstract_entities  \n",
       "count          101524            101521  \n",
       "unique          66863             72168  \n",
       "top                []                []  \n",
       "freq            26053             25480  "
      ]
     },
     "execution_count": 21,
     "metadata": {},
     "output_type": "execute_result"
    }
   ],
   "source": [
    "news.describe()"
   ]
  },
  {
   "cell_type": "markdown",
   "metadata": {},
   "source": [
    "### Behaviours"
   ]
  },
  {
   "cell_type": "code",
   "execution_count": 10,
   "metadata": {},
   "outputs": [],
   "source": [
    "# Convert the time column to datetime format\n",
    "behaviours[\"time\"] = pd.to_datetime(behaviours[\"time\"], format=\"%m/%d/%Y %I:%M:%S %p\")"
   ]
  },
  {
   "cell_type": "code",
   "execution_count": 23,
   "metadata": {},
   "outputs": [
    {
     "name": "stdout",
     "output_type": "stream",
     "text": [
      "2019-11-09 00:00:00\n",
      "2019-11-14 23:59:59\n"
     ]
    }
   ],
   "source": [
    "print(behaviours['time'].min())\n",
    "print(behaviours['time'].max())"
   ]
  },
  {
   "cell_type": "code",
   "execution_count": 24,
   "metadata": {},
   "outputs": [
    {
     "name": "stdout",
     "output_type": "stream",
     "text": [
      "There are 711222 unique users in the dataset\n"
     ]
    }
   ],
   "source": [
    "# Check how many unique users we have \n",
    "print(f\"There are {behaviours['user_id'].nunique()} unique users in the dataset\")"
   ]
  },
  {
   "cell_type": "code",
   "execution_count": 25,
   "metadata": {},
   "outputs": [
    {
     "name": "stdout",
     "output_type": "stream",
     "text": [
      "The number of unique histories in the dataset is 689269\n"
     ]
    }
   ],
   "source": [
    "# unique number of histories\n",
    "print(f\"The number of unique histories in the dataset is {behaviours['history'].nunique()}\")"
   ]
  },
  {
   "cell_type": "markdown",
   "metadata": {},
   "source": [
    "### News"
   ]
  },
  {
   "cell_type": "code",
   "execution_count": 26,
   "metadata": {},
   "outputs": [
    {
     "data": {
      "text/plain": [
       "0"
      ]
     },
     "execution_count": 26,
     "metadata": {},
     "output_type": "execute_result"
    }
   ],
   "source": [
    "# check that IDs are unique\n",
    "news.duplicated('news_id').sum()"
   ]
  },
  {
   "cell_type": "code",
   "execution_count": 27,
   "metadata": {},
   "outputs": [
    {
     "data": {
      "text/plain": [
       "3139"
      ]
     },
     "execution_count": 27,
     "metadata": {},
     "output_type": "execute_result"
    }
   ],
   "source": [
    "# titles are not unique\n",
    "news.duplicated('title').sum()"
   ]
  },
  {
   "cell_type": "code",
   "execution_count": 28,
   "metadata": {},
   "outputs": [
    {
     "data": {
      "text/html": [
       "<div>\n",
       "<style scoped>\n",
       "    .dataframe tbody tr th:only-of-type {\n",
       "        vertical-align: middle;\n",
       "    }\n",
       "\n",
       "    .dataframe tbody tr th {\n",
       "        vertical-align: top;\n",
       "    }\n",
       "\n",
       "    .dataframe thead th {\n",
       "        text-align: right;\n",
       "    }\n",
       "</style>\n",
       "<table border=\"1\" class=\"dataframe\">\n",
       "  <thead>\n",
       "    <tr style=\"text-align: right;\">\n",
       "      <th></th>\n",
       "      <th>news_id</th>\n",
       "      <th>category</th>\n",
       "      <th>subcategory</th>\n",
       "      <th>title</th>\n",
       "      <th>abstract</th>\n",
       "      <th>url</th>\n",
       "      <th>title_entities</th>\n",
       "      <th>abstract_entities</th>\n",
       "    </tr>\n",
       "  </thead>\n",
       "  <tbody>\n",
       "    <tr>\n",
       "      <th>0</th>\n",
       "      <td>N88753</td>\n",
       "      <td>lifestyle</td>\n",
       "      <td>lifestyleroyals</td>\n",
       "      <td>The Brands Queen Elizabeth, Prince Charles, an...</td>\n",
       "      <td>Shop the notebooks, jackets, and more that the...</td>\n",
       "      <td>https://assets.msn.com/labs/mind/AAGH0ET.html</td>\n",
       "      <td>[{\"Label\": \"Prince Philip, Duke of Edinburgh\",...</td>\n",
       "      <td>[]</td>\n",
       "    </tr>\n",
       "    <tr>\n",
       "      <th>1</th>\n",
       "      <td>N45436</td>\n",
       "      <td>news</td>\n",
       "      <td>newsscienceandtechnology</td>\n",
       "      <td>Walmart Slashes Prices on Last-Generation iPads</td>\n",
       "      <td>Apple's new iPad releases bring big deals on l...</td>\n",
       "      <td>https://assets.msn.com/labs/mind/AABmf2I.html</td>\n",
       "      <td>[{\"Label\": \"IPad\", \"Type\": \"J\", \"WikidataId\": ...</td>\n",
       "      <td>[{\"Label\": \"IPad\", \"Type\": \"J\", \"WikidataId\": ...</td>\n",
       "    </tr>\n",
       "    <tr>\n",
       "      <th>2</th>\n",
       "      <td>N23144</td>\n",
       "      <td>health</td>\n",
       "      <td>weightloss</td>\n",
       "      <td>50 Worst Habits For Belly Fat</td>\n",
       "      <td>These seemingly harmless habits are holding yo...</td>\n",
       "      <td>https://assets.msn.com/labs/mind/AAB19MK.html</td>\n",
       "      <td>[{\"Label\": \"Adipose tissue\", \"Type\": \"C\", \"Wik...</td>\n",
       "      <td>[{\"Label\": \"Adipose tissue\", \"Type\": \"C\", \"Wik...</td>\n",
       "    </tr>\n",
       "    <tr>\n",
       "      <th>3</th>\n",
       "      <td>N86255</td>\n",
       "      <td>health</td>\n",
       "      <td>medical</td>\n",
       "      <td>Dispose of unwanted prescription drugs during ...</td>\n",
       "      <td>NaN</td>\n",
       "      <td>https://assets.msn.com/labs/mind/AAISxPN.html</td>\n",
       "      <td>[{\"Label\": \"Drug Enforcement Administration\", ...</td>\n",
       "      <td>[]</td>\n",
       "    </tr>\n",
       "    <tr>\n",
       "      <th>4</th>\n",
       "      <td>N93187</td>\n",
       "      <td>news</td>\n",
       "      <td>newsworld</td>\n",
       "      <td>The Cost of Trump's Aid Freeze in the Trenches...</td>\n",
       "      <td>Lt. Ivan Molchanets peeked over a parapet of s...</td>\n",
       "      <td>https://assets.msn.com/labs/mind/AAJgNsz.html</td>\n",
       "      <td>[]</td>\n",
       "      <td>[{\"Label\": \"Ukraine\", \"Type\": \"G\", \"WikidataId...</td>\n",
       "    </tr>\n",
       "  </tbody>\n",
       "</table>\n",
       "</div>"
      ],
      "text/plain": [
       "  news_id   category               subcategory  \\\n",
       "0  N88753  lifestyle           lifestyleroyals   \n",
       "1  N45436       news  newsscienceandtechnology   \n",
       "2  N23144     health                weightloss   \n",
       "3  N86255     health                   medical   \n",
       "4  N93187       news                 newsworld   \n",
       "\n",
       "                                               title  \\\n",
       "0  The Brands Queen Elizabeth, Prince Charles, an...   \n",
       "1    Walmart Slashes Prices on Last-Generation iPads   \n",
       "2                      50 Worst Habits For Belly Fat   \n",
       "3  Dispose of unwanted prescription drugs during ...   \n",
       "4  The Cost of Trump's Aid Freeze in the Trenches...   \n",
       "\n",
       "                                            abstract  \\\n",
       "0  Shop the notebooks, jackets, and more that the...   \n",
       "1  Apple's new iPad releases bring big deals on l...   \n",
       "2  These seemingly harmless habits are holding yo...   \n",
       "3                                                NaN   \n",
       "4  Lt. Ivan Molchanets peeked over a parapet of s...   \n",
       "\n",
       "                                             url  \\\n",
       "0  https://assets.msn.com/labs/mind/AAGH0ET.html   \n",
       "1  https://assets.msn.com/labs/mind/AABmf2I.html   \n",
       "2  https://assets.msn.com/labs/mind/AAB19MK.html   \n",
       "3  https://assets.msn.com/labs/mind/AAISxPN.html   \n",
       "4  https://assets.msn.com/labs/mind/AAJgNsz.html   \n",
       "\n",
       "                                      title_entities  \\\n",
       "0  [{\"Label\": \"Prince Philip, Duke of Edinburgh\",...   \n",
       "1  [{\"Label\": \"IPad\", \"Type\": \"J\", \"WikidataId\": ...   \n",
       "2  [{\"Label\": \"Adipose tissue\", \"Type\": \"C\", \"Wik...   \n",
       "3  [{\"Label\": \"Drug Enforcement Administration\", ...   \n",
       "4                                                 []   \n",
       "\n",
       "                                   abstract_entities  \n",
       "0                                                 []  \n",
       "1  [{\"Label\": \"IPad\", \"Type\": \"J\", \"WikidataId\": ...  \n",
       "2  [{\"Label\": \"Adipose tissue\", \"Type\": \"C\", \"Wik...  \n",
       "3                                                 []  \n",
       "4  [{\"Label\": \"Ukraine\", \"Type\": \"G\", \"WikidataId...  "
      ]
     },
     "execution_count": 28,
     "metadata": {},
     "output_type": "execute_result"
    }
   ],
   "source": [
    "news.head()"
   ]
  },
  {
   "cell_type": "code",
   "execution_count": 29,
   "metadata": {},
   "outputs": [
    {
     "name": "stdout",
     "output_type": "stream",
     "text": [
      "There are 18 categories in the dataset\n",
      "There are 285 sub-categories in the dataset\n"
     ]
    }
   ],
   "source": [
    "# How many Categories and subcategories do we have\n",
    "print(f\"There are {news['category'].nunique()} categories in the dataset\")\n",
    "print(f\"There are {news['subcategory'].nunique()} sub-categories in the dataset\")"
   ]
  },
  {
   "cell_type": "code",
   "execution_count": 30,
   "metadata": {},
   "outputs": [
    {
     "data": {
      "text/plain": [
       "category\n",
       "sports           32020\n",
       "news             30478\n",
       "finance           5916\n",
       "travel            4955\n",
       "lifestyle         4570\n",
       "video             4569\n",
       "foodanddrink      4418\n",
       "weather           4255\n",
       "autos             3071\n",
       "health            2929\n",
       "tv                1323\n",
       "music             1263\n",
       "entertainment      837\n",
       "movies             815\n",
       "kids               104\n",
       "middleeast           2\n",
       "northamerica         1\n",
       "games                1\n",
       "Name: subcategory, dtype: int64"
      ]
     },
     "execution_count": 30,
     "metadata": {},
     "output_type": "execute_result"
    }
   ],
   "source": [
    "# Number of articles per category\n",
    "news.groupby('category')['subcategory'].count().sort_values(ascending=False)"
   ]
  },
  {
   "cell_type": "code",
   "execution_count": 31,
   "metadata": {},
   "outputs": [
    {
     "data": {
      "text/plain": [
       "subcategory\n",
       "newsus                      14467\n",
       "football_nfl                11813\n",
       "newspolitics                 5145\n",
       "weathertopstories            4253\n",
       "newscrime                    3676\n",
       "baseball_mlb                 3617\n",
       "football_ncaa                3450\n",
       "news                         3351\n",
       "basketball_nba               3226\n",
       "more_sports                  2801\n",
       "newsscienceandtechnology     2771\n",
       "newstrends                   2715\n",
       "travelarticle                2624\n",
       "newsworld                    2523\n",
       "lifestylebuzz                1944\n",
       "financenews                  1932\n",
       "travelnews                   1812\n",
       "autosnews                    1703\n",
       "basketball_ncaa              1674\n",
       "icehockey_nhl                1524\n",
       "Name: title, dtype: int64"
      ]
     },
     "execution_count": 31,
     "metadata": {},
     "output_type": "execute_result"
    }
   ],
   "source": [
    "# Top 20 overall subcategories\n",
    "news.groupby('subcategory')['title'].count().sort_values(ascending=False).nlargest(20)"
   ]
  },
  {
   "cell_type": "markdown",
   "metadata": {},
   "source": [
    "## EDA Dive"
   ]
  },
  {
   "cell_type": "code",
   "execution_count": 11,
   "metadata": {},
   "outputs": [],
   "source": [
    "#Create a copy of for graphing data\n",
    "news_graph = news.copy()\n",
    "behaviours_graph = behaviours.copy()"
   ]
  },
  {
   "cell_type": "markdown",
   "metadata": {},
   "source": [
    "### Understanding News Articles"
   ]
  },
  {
   "cell_type": "markdown",
   "metadata": {},
   "source": [
    "#### Categories & Subcategories"
   ]
  },
  {
   "cell_type": "code",
   "execution_count": 33,
   "metadata": {},
   "outputs": [
    {
     "data": {
      "application/vnd.plotly.v1+json": {
       "config": {
        "plotlyServerURL": "https://plot.ly"
       },
       "data": [
        {
         "alignmentgroup": "True",
         "hovertemplate": "category=%{x}<br>count=%{y}<extra></extra>",
         "legendgroup": "",
         "marker": {
          "color": "#636efa",
          "pattern": {
           "shape": ""
          }
         },
         "name": "",
         "offsetgroup": "",
         "orientation": "v",
         "showlegend": false,
         "textposition": "auto",
         "type": "bar",
         "x": [
          "sports",
          "news",
          "finance",
          "travel",
          "lifestyle",
          "video",
          "foodanddrink",
          "weather",
          "autos",
          "health",
          "tv",
          "music",
          "entertainment",
          "movies",
          "kids",
          "middleeast",
          "games",
          "northamerica"
         ],
         "xaxis": "x",
         "y": [
          32020,
          30478,
          5916,
          4955,
          4570,
          4569,
          4418,
          4255,
          3071,
          2929,
          1323,
          1263,
          837,
          815,
          104,
          2,
          1,
          1
         ],
         "yaxis": "y"
        }
       ],
       "layout": {
        "barmode": "relative",
        "legend": {
         "tracegroupgap": 0
        },
        "template": {
         "data": {
          "bar": [
           {
            "error_x": {
             "color": "#2a3f5f"
            },
            "error_y": {
             "color": "#2a3f5f"
            },
            "marker": {
             "line": {
              "color": "#E5ECF6",
              "width": 0.5
             },
             "pattern": {
              "fillmode": "overlay",
              "size": 10,
              "solidity": 0.2
             }
            },
            "type": "bar"
           }
          ],
          "barpolar": [
           {
            "marker": {
             "line": {
              "color": "#E5ECF6",
              "width": 0.5
             },
             "pattern": {
              "fillmode": "overlay",
              "size": 10,
              "solidity": 0.2
             }
            },
            "type": "barpolar"
           }
          ],
          "carpet": [
           {
            "aaxis": {
             "endlinecolor": "#2a3f5f",
             "gridcolor": "white",
             "linecolor": "white",
             "minorgridcolor": "white",
             "startlinecolor": "#2a3f5f"
            },
            "baxis": {
             "endlinecolor": "#2a3f5f",
             "gridcolor": "white",
             "linecolor": "white",
             "minorgridcolor": "white",
             "startlinecolor": "#2a3f5f"
            },
            "type": "carpet"
           }
          ],
          "choropleth": [
           {
            "colorbar": {
             "outlinewidth": 0,
             "ticks": ""
            },
            "type": "choropleth"
           }
          ],
          "contour": [
           {
            "colorbar": {
             "outlinewidth": 0,
             "ticks": ""
            },
            "colorscale": [
             [
              0,
              "#0d0887"
             ],
             [
              0.1111111111111111,
              "#46039f"
             ],
             [
              0.2222222222222222,
              "#7201a8"
             ],
             [
              0.3333333333333333,
              "#9c179e"
             ],
             [
              0.4444444444444444,
              "#bd3786"
             ],
             [
              0.5555555555555556,
              "#d8576b"
             ],
             [
              0.6666666666666666,
              "#ed7953"
             ],
             [
              0.7777777777777778,
              "#fb9f3a"
             ],
             [
              0.8888888888888888,
              "#fdca26"
             ],
             [
              1,
              "#f0f921"
             ]
            ],
            "type": "contour"
           }
          ],
          "contourcarpet": [
           {
            "colorbar": {
             "outlinewidth": 0,
             "ticks": ""
            },
            "type": "contourcarpet"
           }
          ],
          "heatmap": [
           {
            "colorbar": {
             "outlinewidth": 0,
             "ticks": ""
            },
            "colorscale": [
             [
              0,
              "#0d0887"
             ],
             [
              0.1111111111111111,
              "#46039f"
             ],
             [
              0.2222222222222222,
              "#7201a8"
             ],
             [
              0.3333333333333333,
              "#9c179e"
             ],
             [
              0.4444444444444444,
              "#bd3786"
             ],
             [
              0.5555555555555556,
              "#d8576b"
             ],
             [
              0.6666666666666666,
              "#ed7953"
             ],
             [
              0.7777777777777778,
              "#fb9f3a"
             ],
             [
              0.8888888888888888,
              "#fdca26"
             ],
             [
              1,
              "#f0f921"
             ]
            ],
            "type": "heatmap"
           }
          ],
          "heatmapgl": [
           {
            "colorbar": {
             "outlinewidth": 0,
             "ticks": ""
            },
            "colorscale": [
             [
              0,
              "#0d0887"
             ],
             [
              0.1111111111111111,
              "#46039f"
             ],
             [
              0.2222222222222222,
              "#7201a8"
             ],
             [
              0.3333333333333333,
              "#9c179e"
             ],
             [
              0.4444444444444444,
              "#bd3786"
             ],
             [
              0.5555555555555556,
              "#d8576b"
             ],
             [
              0.6666666666666666,
              "#ed7953"
             ],
             [
              0.7777777777777778,
              "#fb9f3a"
             ],
             [
              0.8888888888888888,
              "#fdca26"
             ],
             [
              1,
              "#f0f921"
             ]
            ],
            "type": "heatmapgl"
           }
          ],
          "histogram": [
           {
            "marker": {
             "pattern": {
              "fillmode": "overlay",
              "size": 10,
              "solidity": 0.2
             }
            },
            "type": "histogram"
           }
          ],
          "histogram2d": [
           {
            "colorbar": {
             "outlinewidth": 0,
             "ticks": ""
            },
            "colorscale": [
             [
              0,
              "#0d0887"
             ],
             [
              0.1111111111111111,
              "#46039f"
             ],
             [
              0.2222222222222222,
              "#7201a8"
             ],
             [
              0.3333333333333333,
              "#9c179e"
             ],
             [
              0.4444444444444444,
              "#bd3786"
             ],
             [
              0.5555555555555556,
              "#d8576b"
             ],
             [
              0.6666666666666666,
              "#ed7953"
             ],
             [
              0.7777777777777778,
              "#fb9f3a"
             ],
             [
              0.8888888888888888,
              "#fdca26"
             ],
             [
              1,
              "#f0f921"
             ]
            ],
            "type": "histogram2d"
           }
          ],
          "histogram2dcontour": [
           {
            "colorbar": {
             "outlinewidth": 0,
             "ticks": ""
            },
            "colorscale": [
             [
              0,
              "#0d0887"
             ],
             [
              0.1111111111111111,
              "#46039f"
             ],
             [
              0.2222222222222222,
              "#7201a8"
             ],
             [
              0.3333333333333333,
              "#9c179e"
             ],
             [
              0.4444444444444444,
              "#bd3786"
             ],
             [
              0.5555555555555556,
              "#d8576b"
             ],
             [
              0.6666666666666666,
              "#ed7953"
             ],
             [
              0.7777777777777778,
              "#fb9f3a"
             ],
             [
              0.8888888888888888,
              "#fdca26"
             ],
             [
              1,
              "#f0f921"
             ]
            ],
            "type": "histogram2dcontour"
           }
          ],
          "mesh3d": [
           {
            "colorbar": {
             "outlinewidth": 0,
             "ticks": ""
            },
            "type": "mesh3d"
           }
          ],
          "parcoords": [
           {
            "line": {
             "colorbar": {
              "outlinewidth": 0,
              "ticks": ""
             }
            },
            "type": "parcoords"
           }
          ],
          "pie": [
           {
            "automargin": true,
            "type": "pie"
           }
          ],
          "scatter": [
           {
            "fillpattern": {
             "fillmode": "overlay",
             "size": 10,
             "solidity": 0.2
            },
            "type": "scatter"
           }
          ],
          "scatter3d": [
           {
            "line": {
             "colorbar": {
              "outlinewidth": 0,
              "ticks": ""
             }
            },
            "marker": {
             "colorbar": {
              "outlinewidth": 0,
              "ticks": ""
             }
            },
            "type": "scatter3d"
           }
          ],
          "scattercarpet": [
           {
            "marker": {
             "colorbar": {
              "outlinewidth": 0,
              "ticks": ""
             }
            },
            "type": "scattercarpet"
           }
          ],
          "scattergeo": [
           {
            "marker": {
             "colorbar": {
              "outlinewidth": 0,
              "ticks": ""
             }
            },
            "type": "scattergeo"
           }
          ],
          "scattergl": [
           {
            "marker": {
             "colorbar": {
              "outlinewidth": 0,
              "ticks": ""
             }
            },
            "type": "scattergl"
           }
          ],
          "scattermapbox": [
           {
            "marker": {
             "colorbar": {
              "outlinewidth": 0,
              "ticks": ""
             }
            },
            "type": "scattermapbox"
           }
          ],
          "scatterpolar": [
           {
            "marker": {
             "colorbar": {
              "outlinewidth": 0,
              "ticks": ""
             }
            },
            "type": "scatterpolar"
           }
          ],
          "scatterpolargl": [
           {
            "marker": {
             "colorbar": {
              "outlinewidth": 0,
              "ticks": ""
             }
            },
            "type": "scatterpolargl"
           }
          ],
          "scatterternary": [
           {
            "marker": {
             "colorbar": {
              "outlinewidth": 0,
              "ticks": ""
             }
            },
            "type": "scatterternary"
           }
          ],
          "surface": [
           {
            "colorbar": {
             "outlinewidth": 0,
             "ticks": ""
            },
            "colorscale": [
             [
              0,
              "#0d0887"
             ],
             [
              0.1111111111111111,
              "#46039f"
             ],
             [
              0.2222222222222222,
              "#7201a8"
             ],
             [
              0.3333333333333333,
              "#9c179e"
             ],
             [
              0.4444444444444444,
              "#bd3786"
             ],
             [
              0.5555555555555556,
              "#d8576b"
             ],
             [
              0.6666666666666666,
              "#ed7953"
             ],
             [
              0.7777777777777778,
              "#fb9f3a"
             ],
             [
              0.8888888888888888,
              "#fdca26"
             ],
             [
              1,
              "#f0f921"
             ]
            ],
            "type": "surface"
           }
          ],
          "table": [
           {
            "cells": {
             "fill": {
              "color": "#EBF0F8"
             },
             "line": {
              "color": "white"
             }
            },
            "header": {
             "fill": {
              "color": "#C8D4E3"
             },
             "line": {
              "color": "white"
             }
            },
            "type": "table"
           }
          ]
         },
         "layout": {
          "annotationdefaults": {
           "arrowcolor": "#2a3f5f",
           "arrowhead": 0,
           "arrowwidth": 1
          },
          "autotypenumbers": "strict",
          "coloraxis": {
           "colorbar": {
            "outlinewidth": 0,
            "ticks": ""
           }
          },
          "colorscale": {
           "diverging": [
            [
             0,
             "#8e0152"
            ],
            [
             0.1,
             "#c51b7d"
            ],
            [
             0.2,
             "#de77ae"
            ],
            [
             0.3,
             "#f1b6da"
            ],
            [
             0.4,
             "#fde0ef"
            ],
            [
             0.5,
             "#f7f7f7"
            ],
            [
             0.6,
             "#e6f5d0"
            ],
            [
             0.7,
             "#b8e186"
            ],
            [
             0.8,
             "#7fbc41"
            ],
            [
             0.9,
             "#4d9221"
            ],
            [
             1,
             "#276419"
            ]
           ],
           "sequential": [
            [
             0,
             "#0d0887"
            ],
            [
             0.1111111111111111,
             "#46039f"
            ],
            [
             0.2222222222222222,
             "#7201a8"
            ],
            [
             0.3333333333333333,
             "#9c179e"
            ],
            [
             0.4444444444444444,
             "#bd3786"
            ],
            [
             0.5555555555555556,
             "#d8576b"
            ],
            [
             0.6666666666666666,
             "#ed7953"
            ],
            [
             0.7777777777777778,
             "#fb9f3a"
            ],
            [
             0.8888888888888888,
             "#fdca26"
            ],
            [
             1,
             "#f0f921"
            ]
           ],
           "sequentialminus": [
            [
             0,
             "#0d0887"
            ],
            [
             0.1111111111111111,
             "#46039f"
            ],
            [
             0.2222222222222222,
             "#7201a8"
            ],
            [
             0.3333333333333333,
             "#9c179e"
            ],
            [
             0.4444444444444444,
             "#bd3786"
            ],
            [
             0.5555555555555556,
             "#d8576b"
            ],
            [
             0.6666666666666666,
             "#ed7953"
            ],
            [
             0.7777777777777778,
             "#fb9f3a"
            ],
            [
             0.8888888888888888,
             "#fdca26"
            ],
            [
             1,
             "#f0f921"
            ]
           ]
          },
          "colorway": [
           "#636efa",
           "#EF553B",
           "#00cc96",
           "#ab63fa",
           "#FFA15A",
           "#19d3f3",
           "#FF6692",
           "#B6E880",
           "#FF97FF",
           "#FECB52"
          ],
          "font": {
           "color": "#2a3f5f"
          },
          "geo": {
           "bgcolor": "white",
           "lakecolor": "white",
           "landcolor": "#E5ECF6",
           "showlakes": true,
           "showland": true,
           "subunitcolor": "white"
          },
          "hoverlabel": {
           "align": "left"
          },
          "hovermode": "closest",
          "mapbox": {
           "style": "light"
          },
          "paper_bgcolor": "white",
          "plot_bgcolor": "#E5ECF6",
          "polar": {
           "angularaxis": {
            "gridcolor": "white",
            "linecolor": "white",
            "ticks": ""
           },
           "bgcolor": "#E5ECF6",
           "radialaxis": {
            "gridcolor": "white",
            "linecolor": "white",
            "ticks": ""
           }
          },
          "scene": {
           "xaxis": {
            "backgroundcolor": "#E5ECF6",
            "gridcolor": "white",
            "gridwidth": 2,
            "linecolor": "white",
            "showbackground": true,
            "ticks": "",
            "zerolinecolor": "white"
           },
           "yaxis": {
            "backgroundcolor": "#E5ECF6",
            "gridcolor": "white",
            "gridwidth": 2,
            "linecolor": "white",
            "showbackground": true,
            "ticks": "",
            "zerolinecolor": "white"
           },
           "zaxis": {
            "backgroundcolor": "#E5ECF6",
            "gridcolor": "white",
            "gridwidth": 2,
            "linecolor": "white",
            "showbackground": true,
            "ticks": "",
            "zerolinecolor": "white"
           }
          },
          "shapedefaults": {
           "line": {
            "color": "#2a3f5f"
           }
          },
          "ternary": {
           "aaxis": {
            "gridcolor": "white",
            "linecolor": "white",
            "ticks": ""
           },
           "baxis": {
            "gridcolor": "white",
            "linecolor": "white",
            "ticks": ""
           },
           "bgcolor": "#E5ECF6",
           "caxis": {
            "gridcolor": "white",
            "linecolor": "white",
            "ticks": ""
           }
          },
          "title": {
           "x": 0.05
          },
          "xaxis": {
           "automargin": true,
           "gridcolor": "white",
           "linecolor": "white",
           "ticks": "",
           "title": {
            "standoff": 15
           },
           "zerolinecolor": "white",
           "zerolinewidth": 2
          },
          "yaxis": {
           "automargin": true,
           "gridcolor": "white",
           "linecolor": "white",
           "ticks": "",
           "title": {
            "standoff": 15
           },
           "zerolinecolor": "white",
           "zerolinewidth": 2
          }
         }
        },
        "title": {
         "text": "Most Common News Categories"
        },
        "xaxis": {
         "anchor": "y",
         "domain": [
          0,
          1
         ],
         "title": {
          "text": "Category"
         }
        },
        "yaxis": {
         "anchor": "x",
         "domain": [
          0,
          1
         ],
         "title": {
          "text": "Count"
         }
        }
       }
      }
     },
     "metadata": {},
     "output_type": "display_data"
    }
   ],
   "source": [
    "# Count occurrences of each category\n",
    "category_counts = news_graph[\"category\"].value_counts().reset_index()\n",
    "category_counts.columns = [\"category\", \"count\"]\n",
    "\n",
    "# Plot\n",
    "fig = px.bar(category_counts, x=\"category\", y=\"count\", title=\"Most Common News Categories\")\n",
    "\n",
    "# Customize labels\n",
    "fig.update_layout(xaxis_title=\"Category\", yaxis_title=\"Count\")\n",
    "\n",
    "# Show plot\n",
    "fig.show()"
   ]
  },
  {
   "cell_type": "code",
   "execution_count": null,
   "metadata": {},
   "outputs": [],
   "source": [
    "# Compute value counts efficiently\n",
    "distribution = news_graph.value_counts(['category', 'subcategory']).reset_index()\n",
    "distribution.columns = ['category', 'subcategory', 'values']\n",
    "\n",
    "# Treemap Visualization\n",
    "fig = px.treemap(distribution, \n",
    "                 path=['category', 'subcategory'], \n",
    "                 values='values', \n",
    "                 color='category',\n",
    "                 title=\"Treemap of Categories and Subcategories\")\n",
    "fig.show()"
   ]
  },
  {
   "cell_type": "code",
   "execution_count": null,
   "metadata": {},
   "outputs": [],
   "source": [
    "# top 5 most popular subcategories for each of the top 5 categories\n",
    "top_categories = news_graph['category'].value_counts().nlargest(5).index\n",
    "\n",
    "# Generate count plots for subcategories within each top category\n",
    "for category in top_categories:\n",
    "    subcategory_counts = news_graph[news_graph['category'] == category]['subcategory'].value_counts().nlargest(10)\n",
    "    fig = px.bar(subcategory_counts, x=subcategory_counts.index, y=subcategory_counts.values,\n",
    "                 labels={'x': 'subcategory', 'y': 'Count'}, title=f\"Subcategories for {category}\")\n",
    "    fig.update_xaxes(tickangle=50)\n",
    "    fig.show()"
   ]
  },
  {
   "cell_type": "code",
   "execution_count": null,
   "metadata": {},
   "outputs": [],
   "source": [
    "# Function to get top words per category\n",
    "def get_top_words(df, column='title', top_n=5):\n",
    "    category_words = (\n",
    "        df.groupby('category')[column]\n",
    "        .apply(lambda titles: Counter(\n",
    "            word.strip(' \"\\'') \n",
    "            for title in titles \n",
    "            for word in title.split() \n",
    "            if word.lower() not in stop_words and word != '-'\n",
    "        ).most_common(top_n))\n",
    "    )\n",
    "    \n",
    "    # Display results\n",
    "    for category, words in category_words.items():\n",
    "        print(f\"{category}: {', '.join(f'{word} ({count})' for word, count in words)}\\n\")\n",
    "\n",
    "# Call the function\n",
    "get_top_words(news_graph)"
   ]
  },
  {
   "cell_type": "code",
   "execution_count": 37,
   "metadata": {},
   "outputs": [
    {
     "name": "stdout",
     "output_type": "stream",
     "text": [
      "[('new', 4832), ('week', 2733), ('man', 2554), ('trump', 2534), ('says', 2476), ('game', 2171), ('state', 2161), ('police', 2135), ('school', 2085), ('first', 1822), ('county', 1804), ('best', 1733), ('football', 1723), ('top', 1695), ('get', 1677), ('fire', 1659), ('win', 1615), ('home', 1486), ('crash', 1428), ('city', 1409)]\n"
     ]
    }
   ],
   "source": [
    "# Tokenize words while filtering out stopwords\n",
    "words = Counter(\n",
    "    word for word in \" \".join(news_graph[\"title\"]).lower().split() \n",
    "    if word not in stop_words and word.isalpha()  # Ensures only alphabetic words are considered\n",
    ")\n",
    "\n",
    "# Print the 20 most common words\n",
    "print(words.most_common(20))"
   ]
  },
  {
   "cell_type": "code",
   "execution_count": null,
   "metadata": {},
   "outputs": [],
   "source": [
    "# Function to get top bigrams per category\n",
    "def get_top_bigrams(df, column='title', top_n=5):\n",
    "    category_bigrams = (\n",
    "        df.groupby('category')[column]\n",
    "        .apply(lambda titles: Counter(\n",
    "            [\" \".join(pair) for title in titles \n",
    "             for pair in zip(title.lower().split()[:-1], title.lower().split()[1:]) \n",
    "             if pair[0] not in stop_words and pair[1] not in stop_words]  # Filter stopwords in bigrams\n",
    "        ).most_common(top_n))\n",
    "    )\n",
    "\n",
    "    # Display results\n",
    "    for category, bigrams in category_bigrams.items():\n",
    "        print(f\"{category}: {', '.join(f'{bigram} ({count})' for bigram, count in bigrams)}\\n\")\n",
    "\n",
    "# Call the function\n",
    "get_top_bigrams(news_graph)"
   ]
  },
  {
   "cell_type": "markdown",
   "metadata": {},
   "source": [
    "#### News Titles"
   ]
  },
  {
   "cell_type": "code",
   "execution_count": 40,
   "metadata": {},
   "outputs": [
    {
     "data": {
      "text/plain": [
       "category   title                                                          \n",
       "lifestyle  Powerball Winning Numbers For 10/26/2019 Drawing: $130M Jackpot    24\n",
       "           Look of the Day                                                    18\n",
       "video      Evening news briefing from CNN                                     18\n",
       "news       Photos of the Day                                                  16\n",
       "video      Morning news briefing from CNN                                     16\n",
       "sports     Friday's Scores                                                    15\n",
       "lifestyle  Powerball Winning Numbers For 10/30/2019 Drawing: $140M Jackpot    12\n",
       "video      CNN Business Now                                                    9\n",
       "weather    Today's weather in St. Louis                                        9\n",
       "           Your weather today in St. Louis                                     9\n",
       "Name: count, dtype: int64"
      ]
     },
     "execution_count": 40,
     "metadata": {},
     "output_type": "execute_result"
    }
   ],
   "source": [
    "# most popular titles per category\n",
    "news_graph.groupby('category')['title'].value_counts().nlargest(10)"
   ]
  },
  {
   "cell_type": "code",
   "execution_count": null,
   "metadata": {},
   "outputs": [],
   "source": [
    "# Ensure all values are treated as strings before splitting\n",
    "news_graph[\"title_length\"] = news_graph[\"title\"].astype(str).apply(lambda x: len(x.split()) if x.strip() else 0)\n",
    "\n",
    "# Plot distribution\n",
    "fig = px.histogram(news_graph, x=\"title_length\", nbins=20, title=\"Distribution of News Title Length\")\n",
    "fig.show()"
   ]
  },
  {
   "cell_type": "code",
   "execution_count": null,
   "metadata": {},
   "outputs": [],
   "source": [
    "# Plot distribution of title length by subcategory\n",
    "fig = px.box(news_graph, x=\"subcategory\", y=\"title_length\",\n",
    "             title=\"Title Length Distribution by Subcategory\",\n",
    "             labels={\"subcategory\": \"Subcategory\", \"title_length\": \"Title Length\"})\n",
    "\n",
    "fig.update_layout(xaxis_tickangle=-45)\n",
    "fig.show()"
   ]
  },
  {
   "cell_type": "code",
   "execution_count": 43,
   "metadata": {},
   "outputs": [],
   "source": [
    "# Function to compute text statistics efficiently\n",
    "def compute_title_stats(df, text_col=\"title\"):\n",
    "    df = df.copy()  # Avoid modifying original dataframe\n",
    "\n",
    "    df[\"title_polarity\"] = df[text_col].astype(str).apply(lambda x: TextBlob(x).sentiment.polarity)\n",
    "    df[\"title_word_count\"] = df[text_col].astype(str).apply(lambda x: len(x.split()))\n",
    "    df[\"title_unique_word_count\"] = df[text_col].astype(str).apply(lambda x: len(set(x.split())))\n",
    "    df[\"title_stop_word_count\"] = df[text_col].astype(str).apply(lambda x: sum(1 for w in x.lower().split() if w in stop_words))\n",
    "    df[\"title_mean_word_length\"] = df[text_col].astype(str).apply(lambda x: np.mean([len(w) for w in x.split()]) if x.split() else 0)\n",
    "    df[\"title_char_count\"] = df[text_col].astype(str).apply(len)\n",
    "    df[\"title_punctuation_count\"] = df[text_col].astype(str).apply(lambda x: sum(1 for c in x if c in string.punctuation))\n",
    "\n",
    "    return df\n",
    "\n",
    "# Apply function to compute title statistics\n",
    "df_word_count = compute_title_stats(news_graph)"
   ]
  },
  {
   "cell_type": "code",
   "execution_count": null,
   "metadata": {},
   "outputs": [],
   "source": [
    "# Histograms for Text Statistics\n",
    "columns = ['title_polarity', 'title_word_count', 'title_unique_word_count', \n",
    "           'title_stop_word_count', 'title_mean_word_length', 'title_char_count', 'title_punctuation_count']\n",
    "\n",
    "# Create subplots dynamically\n",
    "fig = make_subplots(rows=len(columns), cols=1, subplot_titles=columns)\n",
    "\n",
    "# Add histograms\n",
    "for i, col in enumerate(columns, start=1):\n",
    "    fig.add_trace(go.Histogram(x=df_word_count[col], nbinsx=50, name=col), row=i, col=1)\n",
    "\n",
    "fig.update_layout(title=\"Distribution of Title Features\", height=1800, width=900, showlegend=False)\n",
    "fig.show()"
   ]
  },
  {
   "cell_type": "code",
   "execution_count": null,
   "metadata": {},
   "outputs": [],
   "source": [
    "# Average Word Count per Category\n",
    "df_category_word_count = df_word_count.groupby(\"category\")[\"title_word_count\"].mean().reset_index().sort_values(by=\"title_word_count\", ascending=False)\n",
    "\n",
    "fig = px.bar(df_category_word_count, x=\"category\", y=\"title_word_count\", title=\"Average Title Word Count per Category\", labels={\"title_word_count\": \"Avg Word Count\"})\n",
    "fig.show()"
   ]
  },
  {
   "cell_type": "code",
   "execution_count": null,
   "metadata": {},
   "outputs": [],
   "source": [
    "# Average Polarity per Category\n",
    "df_category_polarity = df_word_count.groupby(\"category\")[\"title_polarity\"].mean().reset_index().sort_values(by=\"title_polarity\", ascending=False)\n",
    "\n",
    "fig = px.bar(df_category_polarity, x=\"category\", y=\"title_polarity\", title=\"Average Title Polarity per Category\", labels={\"title_polarity\": \"Avg Sentiment Polarity\"})\n",
    "fig.show()"
   ]
  },
  {
   "cell_type": "code",
   "execution_count": null,
   "metadata": {},
   "outputs": [],
   "source": [
    "# Combine all titles into one text\n",
    "all_titles = \" \".join(news_graph[\"title\"])\n",
    "\n",
    "# Generate word cloud\n",
    "wordcloud = WordCloud(width=800, height=400, background_color=\"white\", max_words=100).generate(all_titles)\n",
    "\n",
    "# Display word cloud\n",
    "plt.figure(figsize=(10, 5))\n",
    "plt.imshow(wordcloud, interpolation=\"bilinear\")\n",
    "plt.axis(\"off\")\n",
    "plt.title(\"Most Frequent Words in News Titles\")\n",
    "plt.show()"
   ]
  },
  {
   "cell_type": "code",
   "execution_count": null,
   "metadata": {},
   "outputs": [],
   "source": [
    "# Define categories to visualize\n",
    "categories = ['sports', 'news', 'finance', 'travel', 'lifestyle']\n",
    "\n",
    "# Set up a subplot layout\n",
    "fig, axes = plt.subplots(nrows=1, ncols=len(categories), figsize=(20, 5))\n",
    "\n",
    "# Generate and plot word clouds for each category\n",
    "for ax, category in zip(axes, categories):\n",
    "    text = \" \".join(news_graph[news_graph['category'] == category]['title'])\n",
    "    wordcloud = WordCloud(width=800, height=400, background_color=\"white\", max_words=100).generate(text)\n",
    "\n",
    "    ax.imshow(wordcloud, interpolation=\"bilinear\")\n",
    "    ax.set_title(f\"{category.capitalize()} Category\", fontsize=14)\n",
    "    ax.axis(\"off\")  # Hide axes\n",
    "\n",
    "# Adjust layout and show the figure\n",
    "plt.tight_layout()\n",
    "plt.show()"
   ]
  },
  {
   "cell_type": "markdown",
   "metadata": {},
   "source": [
    "#### Abstracts"
   ]
  },
  {
   "cell_type": "code",
   "execution_count": null,
   "metadata": {},
   "outputs": [],
   "source": [
    "# Ensure all values are treated as strings before splitting\n",
    "news_graph[\"abstract_length\"] = news_graph[\"abstract\"].astype(str).apply(lambda x: len(x.split()) if x.strip() else 0)\n",
    "\n",
    "fig = px.histogram(news_graph, x=\"abstract_length\", nbins=20, title=\"Distribution of News Abstract Length\")\n",
    "fig.show()"
   ]
  },
  {
   "cell_type": "code",
   "execution_count": null,
   "metadata": {},
   "outputs": [],
   "source": [
    "# Compute average abstract length\n",
    "avg_abstract_length = news_graph.groupby(\"category\")[\"abstract_length\"].mean().reset_index()\n",
    "\n",
    "# Round values for better readability\n",
    "avg_abstract_length[\"abstract_length\"] = avg_abstract_length[\"abstract_length\"].round(1)\n",
    "\n",
    "# Sort categories by abstract length (descending order)\n",
    "avg_abstract_length = avg_abstract_length.sort_values(by=\"abstract_length\", ascending=False)\n",
    "\n",
    "# Plot\n",
    "fig = px.bar(avg_abstract_length, \n",
    "             x=\"category\", \n",
    "             y=\"abstract_length\",\n",
    "             title=\"Average Abstract Length by Category\",\n",
    "             labels={\"category\": \"Category\", \"abstract_length\": \"Avg Abstract Length\"},\n",
    "             text=\"abstract_length\")  # Show values on bars\n",
    "\n",
    "# **Enhancements**\n",
    "fig.update_traces(marker_color=\"royalblue\", textposition=\"outside\")  # Set color & move text labels\n",
    "fig.update_layout(xaxis_tickangle=-45, height=500, width=900)  # Improve layout\n",
    "\n",
    "# Show plot\n",
    "fig.show()"
   ]
  },
  {
   "cell_type": "code",
   "execution_count": null,
   "metadata": {},
   "outputs": [],
   "source": [
    "# Plot distribution of Abstract length by subcategory\n",
    "fig = px.box(news_graph, x=\"subcategory\", y=\"abstract_length\",\n",
    "             title=\"Abstract Length Distribution by Subcategory\",\n",
    "             labels={\"subcategory\": \"Subcategory\", \"abstract_length\": \"Abstract Length\"})\n",
    "\n",
    "fig.update_layout(xaxis_tickangle=-45)\n",
    "fig.show()"
   ]
  },
  {
   "cell_type": "code",
   "execution_count": 52,
   "metadata": {},
   "outputs": [
    {
     "data": {
      "text/plain": [
       "category   abstract                                                                                                                     \n",
       "news       What's the weather today? What's the weather for the week? Here's your forecast.                                                 264\n",
       "weather    What's the weather today? What's the weather for the week? Here's your forecast.                                                 171\n",
       "movies     Trailer 1                                                                                                                         33\n",
       "lifestyle  Here are the winning Powerball numbers for the jackpot drawing on Saturday, Oct. 26, 2019.                                        24\n",
       "news       Here's the most recent top news in Houston; see what headlines are trending among local readers, with links to full articles.     23\n",
       "sports     Read!                                                                                                                             23\n",
       "           More of the latest Browns news and notes from around the web in today's dose of the Daily Dawg Chow.                              21\n",
       "news       Here's the most recent top news in Seattle; see what headlines are trending among local readers, with links to full articles.     19\n",
       "           Here's the most recent top news in Detroit; see what headlines are trending among local readers, with links to full articles.     19\n",
       "sports     Time to check on the latest news surrounding the Pittsburgh Steelers.                                                             19\n",
       "Name: count, dtype: int64"
      ]
     },
     "execution_count": 52,
     "metadata": {},
     "output_type": "execute_result"
    }
   ],
   "source": [
    "# most popular titles per category\n",
    "news_graph.groupby('category')['abstract'].value_counts().nlargest(10)"
   ]
  },
  {
   "cell_type": "code",
   "execution_count": 53,
   "metadata": {},
   "outputs": [],
   "source": [
    "# Function to compute text statistics efficiently\n",
    "def compute_abstract_stats(df, text_col=\"abstract\"):\n",
    "    df = df.copy()  # Avoid modifying original dataframe\n",
    "\n",
    "    df[\"abstract_polarity\"] = df[text_col].astype(str).apply(lambda x: TextBlob(x).sentiment.polarity)\n",
    "    df[\"abstract_word_count\"] = df[text_col].astype(str).apply(lambda x: len(x.split()))\n",
    "    df[\"abstract_unique_word_count\"] = df[text_col].astype(str).apply(lambda x: len(set(x.split())))\n",
    "    df[\"abstract_stop_word_count\"] = df[text_col].astype(str).apply(lambda x: sum(1 for w in x.lower().split() if w in stop_words))\n",
    "    df[\"abstract_mean_word_length\"] = df[text_col].astype(str).apply(lambda x: np.mean([len(w) for w in x.split()]) if x.split() else 0)\n",
    "    df[\"abstract_char_count\"] = df[text_col].astype(str).apply(len)\n",
    "    df[\"abstract_punctuation_count\"] = df[text_col].astype(str).apply(lambda x: sum(1 for c in x if c in string.punctuation))\n",
    "\n",
    "    return df\n",
    "\n",
    "# Apply function to compute title statistics\n",
    "df_word_count_abstract = compute_abstract_stats(news_graph)"
   ]
  },
  {
   "cell_type": "code",
   "execution_count": null,
   "metadata": {},
   "outputs": [],
   "source": [
    "# Histograms for Text Statistics\n",
    "columns = ['abstract_polarity', 'abstract_word_count', 'abstract_unique_word_count', \n",
    "           'abstract_stop_word_count', 'abstract_mean_word_length', 'abstract_char_count', 'abstract_punctuation_count']\n",
    "\n",
    "# Create subplots dynamically\n",
    "fig = make_subplots(rows=len(columns), cols=1, subplot_titles=columns)\n",
    "\n",
    "# Add histograms\n",
    "for i, col in enumerate(columns, start=1):\n",
    "    fig.add_trace(go.Histogram(x=df_word_count_abstract[col], nbinsx=50, name=col), row=i, col=1)\n",
    "\n",
    "fig.update_layout(title=\"Distribution of Abstract Features\", height=1800, width=900, showlegend=False)\n",
    "fig.show()"
   ]
  },
  {
   "cell_type": "code",
   "execution_count": null,
   "metadata": {},
   "outputs": [],
   "source": [
    "# Average Word Count per Category\n",
    "df_category_word_count_abstract = df_word_count_abstract.groupby(\"category\")[\"abstract_word_count\"].mean().reset_index().sort_values(by=\"abstract_word_count\", ascending=False)\n",
    "\n",
    "fig = px.bar(df_category_word_count_abstract, x=\"category\", y=\"abstract_word_count\", title=\"Average Abstract Word Count per Category\", labels={\"abstract_word_count\": \"Avg Word Count\"})\n",
    "fig.show()"
   ]
  },
  {
   "cell_type": "code",
   "execution_count": null,
   "metadata": {},
   "outputs": [],
   "source": [
    "# Average Polarity per Category\n",
    "df_category_polarity_abstract = df_word_count_abstract.groupby(\"category\")[\"abstract_polarity\"].mean().reset_index().sort_values(by=\"abstract_polarity\", ascending=False)\n",
    "\n",
    "fig = px.bar(df_category_polarity_abstract, x=\"category\", y=\"abstract_polarity\", title=\"Average Abstract Polarity per Category\", labels={\"abstract_polarity\": \"Avg Sentiment Polarity\"})\n",
    "fig.show()"
   ]
  },
  {
   "cell_type": "code",
   "execution_count": null,
   "metadata": {},
   "outputs": [],
   "source": [
    "# Ensure all values in \"abstract\" are strings and handle NaN values\n",
    "all_abstracts = \" \".join(news_graph[\"abstract\"].dropna().astype(str))\n",
    "\n",
    "# Generate word cloud\n",
    "wordcloud = WordCloud(width=800, height=400, background_color=\"white\", max_words=100).generate(all_abstracts)\n",
    "\n",
    "# Display word cloud\n",
    "plt.figure(figsize=(10, 5))\n",
    "plt.imshow(wordcloud, interpolation=\"bilinear\")\n",
    "plt.axis(\"off\")\n",
    "plt.title(\"Most Frequent Words in News Abstracts\")\n",
    "plt.show()"
   ]
  },
  {
   "cell_type": "code",
   "execution_count": null,
   "metadata": {},
   "outputs": [],
   "source": [
    "# Define categories to visualize\n",
    "categories = ['sports', 'news', 'finance', 'travel', 'lifestyle']\n",
    "\n",
    "# Set up a subplot layout\n",
    "fig, axes = plt.subplots(nrows=1, ncols=len(categories), figsize=(20, 5))\n",
    "\n",
    "# Generate and plot word clouds for each category\n",
    "for ax, category in zip(axes, categories):\n",
    "    # Convert non-string values to empty strings and drop NaNs\n",
    "    text = \" \".join(news_graph[news_graph['category'] == category]['abstract'].dropna().astype(str))\n",
    "    \n",
    "    wordcloud = WordCloud(width=800, height=400, background_color=\"white\", max_words=100).generate(text)\n",
    "\n",
    "    ax.imshow(wordcloud, interpolation=\"bilinear\")\n",
    "    ax.set_title(f\"{category.capitalize()} Category\", fontsize=14)\n",
    "    ax.axis(\"off\")  # Hide axes\n",
    "\n",
    "# Adjust layout and show the figure\n",
    "plt.tight_layout()\n",
    "plt.show()"
   ]
  },
  {
   "cell_type": "markdown",
   "metadata": {},
   "source": [
    "### Understanding User Behaviours & Clicks"
   ]
  },
  {
   "cell_type": "code",
   "execution_count": 59,
   "metadata": {},
   "outputs": [],
   "source": [
    "# Extract hour from timestamp\n",
    "behaviours_graph[\"hour\"] = behaviours_graph[\"time\"].dt.hour"
   ]
  },
  {
   "cell_type": "code",
   "execution_count": 60,
   "metadata": {},
   "outputs": [
    {
     "data": {
      "application/vnd.plotly.v1+json": {
       "config": {
        "plotlyServerURL": "https://plot.ly"
       },
       "data": [
        {
         "alignmentgroup": "True",
         "hovertemplate": "<b>Hour: %{x}</b><br>Sessions: %{y}",
         "legendgroup": "",
         "marker": {
          "color": "royalblue",
          "pattern": {
           "shape": ""
          }
         },
         "name": "",
         "offsetgroup": "",
         "orientation": "v",
         "showlegend": false,
         "text": [
          "15.1K",
          "16.4K",
          "24.8K",
          "44.2K",
          "77.7K",
          "122.9K",
          "152.5K",
          "168.4K",
          "176.1K",
          "151.2K",
          "173.6K",
          "179.4K",
          "159.8K",
          "149.3K",
          "122.4K",
          "94.2K",
          "90.6K",
          "74.8K",
          "64.5K",
          "52.7K",
          "42.8K",
          "36.0K",
          "24.6K",
          "18.7K"
         ],
         "textposition": "outside",
         "type": "bar",
         "x": [
          0,
          1,
          2,
          3,
          4,
          5,
          6,
          7,
          8,
          9,
          10,
          11,
          12,
          13,
          14,
          15,
          16,
          17,
          18,
          19,
          20,
          21,
          22,
          23
         ],
         "xaxis": "x",
         "y": [
          15071,
          16448,
          24847,
          44167,
          77672,
          122882,
          152483,
          168434,
          176084,
          151179,
          173596,
          179368,
          159827,
          149316,
          122446,
          94245,
          90618,
          74841,
          64459,
          52683,
          42809,
          35965,
          24643,
          18665
         ],
         "yaxis": "y"
        }
       ],
       "layout": {
        "barmode": "relative",
        "height": 500,
        "legend": {
         "tracegroupgap": 0
        },
        "template": {
         "data": {
          "bar": [
           {
            "error_x": {
             "color": "#2a3f5f"
            },
            "error_y": {
             "color": "#2a3f5f"
            },
            "marker": {
             "line": {
              "color": "#E5ECF6",
              "width": 0.5
             },
             "pattern": {
              "fillmode": "overlay",
              "size": 10,
              "solidity": 0.2
             }
            },
            "type": "bar"
           }
          ],
          "barpolar": [
           {
            "marker": {
             "line": {
              "color": "#E5ECF6",
              "width": 0.5
             },
             "pattern": {
              "fillmode": "overlay",
              "size": 10,
              "solidity": 0.2
             }
            },
            "type": "barpolar"
           }
          ],
          "carpet": [
           {
            "aaxis": {
             "endlinecolor": "#2a3f5f",
             "gridcolor": "white",
             "linecolor": "white",
             "minorgridcolor": "white",
             "startlinecolor": "#2a3f5f"
            },
            "baxis": {
             "endlinecolor": "#2a3f5f",
             "gridcolor": "white",
             "linecolor": "white",
             "minorgridcolor": "white",
             "startlinecolor": "#2a3f5f"
            },
            "type": "carpet"
           }
          ],
          "choropleth": [
           {
            "colorbar": {
             "outlinewidth": 0,
             "ticks": ""
            },
            "type": "choropleth"
           }
          ],
          "contour": [
           {
            "colorbar": {
             "outlinewidth": 0,
             "ticks": ""
            },
            "colorscale": [
             [
              0,
              "#0d0887"
             ],
             [
              0.1111111111111111,
              "#46039f"
             ],
             [
              0.2222222222222222,
              "#7201a8"
             ],
             [
              0.3333333333333333,
              "#9c179e"
             ],
             [
              0.4444444444444444,
              "#bd3786"
             ],
             [
              0.5555555555555556,
              "#d8576b"
             ],
             [
              0.6666666666666666,
              "#ed7953"
             ],
             [
              0.7777777777777778,
              "#fb9f3a"
             ],
             [
              0.8888888888888888,
              "#fdca26"
             ],
             [
              1,
              "#f0f921"
             ]
            ],
            "type": "contour"
           }
          ],
          "contourcarpet": [
           {
            "colorbar": {
             "outlinewidth": 0,
             "ticks": ""
            },
            "type": "contourcarpet"
           }
          ],
          "heatmap": [
           {
            "colorbar": {
             "outlinewidth": 0,
             "ticks": ""
            },
            "colorscale": [
             [
              0,
              "#0d0887"
             ],
             [
              0.1111111111111111,
              "#46039f"
             ],
             [
              0.2222222222222222,
              "#7201a8"
             ],
             [
              0.3333333333333333,
              "#9c179e"
             ],
             [
              0.4444444444444444,
              "#bd3786"
             ],
             [
              0.5555555555555556,
              "#d8576b"
             ],
             [
              0.6666666666666666,
              "#ed7953"
             ],
             [
              0.7777777777777778,
              "#fb9f3a"
             ],
             [
              0.8888888888888888,
              "#fdca26"
             ],
             [
              1,
              "#f0f921"
             ]
            ],
            "type": "heatmap"
           }
          ],
          "heatmapgl": [
           {
            "colorbar": {
             "outlinewidth": 0,
             "ticks": ""
            },
            "colorscale": [
             [
              0,
              "#0d0887"
             ],
             [
              0.1111111111111111,
              "#46039f"
             ],
             [
              0.2222222222222222,
              "#7201a8"
             ],
             [
              0.3333333333333333,
              "#9c179e"
             ],
             [
              0.4444444444444444,
              "#bd3786"
             ],
             [
              0.5555555555555556,
              "#d8576b"
             ],
             [
              0.6666666666666666,
              "#ed7953"
             ],
             [
              0.7777777777777778,
              "#fb9f3a"
             ],
             [
              0.8888888888888888,
              "#fdca26"
             ],
             [
              1,
              "#f0f921"
             ]
            ],
            "type": "heatmapgl"
           }
          ],
          "histogram": [
           {
            "marker": {
             "pattern": {
              "fillmode": "overlay",
              "size": 10,
              "solidity": 0.2
             }
            },
            "type": "histogram"
           }
          ],
          "histogram2d": [
           {
            "colorbar": {
             "outlinewidth": 0,
             "ticks": ""
            },
            "colorscale": [
             [
              0,
              "#0d0887"
             ],
             [
              0.1111111111111111,
              "#46039f"
             ],
             [
              0.2222222222222222,
              "#7201a8"
             ],
             [
              0.3333333333333333,
              "#9c179e"
             ],
             [
              0.4444444444444444,
              "#bd3786"
             ],
             [
              0.5555555555555556,
              "#d8576b"
             ],
             [
              0.6666666666666666,
              "#ed7953"
             ],
             [
              0.7777777777777778,
              "#fb9f3a"
             ],
             [
              0.8888888888888888,
              "#fdca26"
             ],
             [
              1,
              "#f0f921"
             ]
            ],
            "type": "histogram2d"
           }
          ],
          "histogram2dcontour": [
           {
            "colorbar": {
             "outlinewidth": 0,
             "ticks": ""
            },
            "colorscale": [
             [
              0,
              "#0d0887"
             ],
             [
              0.1111111111111111,
              "#46039f"
             ],
             [
              0.2222222222222222,
              "#7201a8"
             ],
             [
              0.3333333333333333,
              "#9c179e"
             ],
             [
              0.4444444444444444,
              "#bd3786"
             ],
             [
              0.5555555555555556,
              "#d8576b"
             ],
             [
              0.6666666666666666,
              "#ed7953"
             ],
             [
              0.7777777777777778,
              "#fb9f3a"
             ],
             [
              0.8888888888888888,
              "#fdca26"
             ],
             [
              1,
              "#f0f921"
             ]
            ],
            "type": "histogram2dcontour"
           }
          ],
          "mesh3d": [
           {
            "colorbar": {
             "outlinewidth": 0,
             "ticks": ""
            },
            "type": "mesh3d"
           }
          ],
          "parcoords": [
           {
            "line": {
             "colorbar": {
              "outlinewidth": 0,
              "ticks": ""
             }
            },
            "type": "parcoords"
           }
          ],
          "pie": [
           {
            "automargin": true,
            "type": "pie"
           }
          ],
          "scatter": [
           {
            "fillpattern": {
             "fillmode": "overlay",
             "size": 10,
             "solidity": 0.2
            },
            "type": "scatter"
           }
          ],
          "scatter3d": [
           {
            "line": {
             "colorbar": {
              "outlinewidth": 0,
              "ticks": ""
             }
            },
            "marker": {
             "colorbar": {
              "outlinewidth": 0,
              "ticks": ""
             }
            },
            "type": "scatter3d"
           }
          ],
          "scattercarpet": [
           {
            "marker": {
             "colorbar": {
              "outlinewidth": 0,
              "ticks": ""
             }
            },
            "type": "scattercarpet"
           }
          ],
          "scattergeo": [
           {
            "marker": {
             "colorbar": {
              "outlinewidth": 0,
              "ticks": ""
             }
            },
            "type": "scattergeo"
           }
          ],
          "scattergl": [
           {
            "marker": {
             "colorbar": {
              "outlinewidth": 0,
              "ticks": ""
             }
            },
            "type": "scattergl"
           }
          ],
          "scattermapbox": [
           {
            "marker": {
             "colorbar": {
              "outlinewidth": 0,
              "ticks": ""
             }
            },
            "type": "scattermapbox"
           }
          ],
          "scatterpolar": [
           {
            "marker": {
             "colorbar": {
              "outlinewidth": 0,
              "ticks": ""
             }
            },
            "type": "scatterpolar"
           }
          ],
          "scatterpolargl": [
           {
            "marker": {
             "colorbar": {
              "outlinewidth": 0,
              "ticks": ""
             }
            },
            "type": "scatterpolargl"
           }
          ],
          "scatterternary": [
           {
            "marker": {
             "colorbar": {
              "outlinewidth": 0,
              "ticks": ""
             }
            },
            "type": "scatterternary"
           }
          ],
          "surface": [
           {
            "colorbar": {
             "outlinewidth": 0,
             "ticks": ""
            },
            "colorscale": [
             [
              0,
              "#0d0887"
             ],
             [
              0.1111111111111111,
              "#46039f"
             ],
             [
              0.2222222222222222,
              "#7201a8"
             ],
             [
              0.3333333333333333,
              "#9c179e"
             ],
             [
              0.4444444444444444,
              "#bd3786"
             ],
             [
              0.5555555555555556,
              "#d8576b"
             ],
             [
              0.6666666666666666,
              "#ed7953"
             ],
             [
              0.7777777777777778,
              "#fb9f3a"
             ],
             [
              0.8888888888888888,
              "#fdca26"
             ],
             [
              1,
              "#f0f921"
             ]
            ],
            "type": "surface"
           }
          ],
          "table": [
           {
            "cells": {
             "fill": {
              "color": "#EBF0F8"
             },
             "line": {
              "color": "white"
             }
            },
            "header": {
             "fill": {
              "color": "#C8D4E3"
             },
             "line": {
              "color": "white"
             }
            },
            "type": "table"
           }
          ]
         },
         "layout": {
          "annotationdefaults": {
           "arrowcolor": "#2a3f5f",
           "arrowhead": 0,
           "arrowwidth": 1
          },
          "autotypenumbers": "strict",
          "coloraxis": {
           "colorbar": {
            "outlinewidth": 0,
            "ticks": ""
           }
          },
          "colorscale": {
           "diverging": [
            [
             0,
             "#8e0152"
            ],
            [
             0.1,
             "#c51b7d"
            ],
            [
             0.2,
             "#de77ae"
            ],
            [
             0.3,
             "#f1b6da"
            ],
            [
             0.4,
             "#fde0ef"
            ],
            [
             0.5,
             "#f7f7f7"
            ],
            [
             0.6,
             "#e6f5d0"
            ],
            [
             0.7,
             "#b8e186"
            ],
            [
             0.8,
             "#7fbc41"
            ],
            [
             0.9,
             "#4d9221"
            ],
            [
             1,
             "#276419"
            ]
           ],
           "sequential": [
            [
             0,
             "#0d0887"
            ],
            [
             0.1111111111111111,
             "#46039f"
            ],
            [
             0.2222222222222222,
             "#7201a8"
            ],
            [
             0.3333333333333333,
             "#9c179e"
            ],
            [
             0.4444444444444444,
             "#bd3786"
            ],
            [
             0.5555555555555556,
             "#d8576b"
            ],
            [
             0.6666666666666666,
             "#ed7953"
            ],
            [
             0.7777777777777778,
             "#fb9f3a"
            ],
            [
             0.8888888888888888,
             "#fdca26"
            ],
            [
             1,
             "#f0f921"
            ]
           ],
           "sequentialminus": [
            [
             0,
             "#0d0887"
            ],
            [
             0.1111111111111111,
             "#46039f"
            ],
            [
             0.2222222222222222,
             "#7201a8"
            ],
            [
             0.3333333333333333,
             "#9c179e"
            ],
            [
             0.4444444444444444,
             "#bd3786"
            ],
            [
             0.5555555555555556,
             "#d8576b"
            ],
            [
             0.6666666666666666,
             "#ed7953"
            ],
            [
             0.7777777777777778,
             "#fb9f3a"
            ],
            [
             0.8888888888888888,
             "#fdca26"
            ],
            [
             1,
             "#f0f921"
            ]
           ]
          },
          "colorway": [
           "#636efa",
           "#EF553B",
           "#00cc96",
           "#ab63fa",
           "#FFA15A",
           "#19d3f3",
           "#FF6692",
           "#B6E880",
           "#FF97FF",
           "#FECB52"
          ],
          "font": {
           "color": "#2a3f5f"
          },
          "geo": {
           "bgcolor": "white",
           "lakecolor": "white",
           "landcolor": "#E5ECF6",
           "showlakes": true,
           "showland": true,
           "subunitcolor": "white"
          },
          "hoverlabel": {
           "align": "left"
          },
          "hovermode": "closest",
          "mapbox": {
           "style": "light"
          },
          "paper_bgcolor": "white",
          "plot_bgcolor": "#E5ECF6",
          "polar": {
           "angularaxis": {
            "gridcolor": "white",
            "linecolor": "white",
            "ticks": ""
           },
           "bgcolor": "#E5ECF6",
           "radialaxis": {
            "gridcolor": "white",
            "linecolor": "white",
            "ticks": ""
           }
          },
          "scene": {
           "xaxis": {
            "backgroundcolor": "#E5ECF6",
            "gridcolor": "white",
            "gridwidth": 2,
            "linecolor": "white",
            "showbackground": true,
            "ticks": "",
            "zerolinecolor": "white"
           },
           "yaxis": {
            "backgroundcolor": "#E5ECF6",
            "gridcolor": "white",
            "gridwidth": 2,
            "linecolor": "white",
            "showbackground": true,
            "ticks": "",
            "zerolinecolor": "white"
           },
           "zaxis": {
            "backgroundcolor": "#E5ECF6",
            "gridcolor": "white",
            "gridwidth": 2,
            "linecolor": "white",
            "showbackground": true,
            "ticks": "",
            "zerolinecolor": "white"
           }
          },
          "shapedefaults": {
           "line": {
            "color": "#2a3f5f"
           }
          },
          "ternary": {
           "aaxis": {
            "gridcolor": "white",
            "linecolor": "white",
            "ticks": ""
           },
           "baxis": {
            "gridcolor": "white",
            "linecolor": "white",
            "ticks": ""
           },
           "bgcolor": "#E5ECF6",
           "caxis": {
            "gridcolor": "white",
            "linecolor": "white",
            "ticks": ""
           }
          },
          "title": {
           "x": 0.05
          },
          "xaxis": {
           "automargin": true,
           "gridcolor": "white",
           "linecolor": "white",
           "ticks": "",
           "title": {
            "standoff": 15
           },
           "zerolinecolor": "white",
           "zerolinewidth": 2
          },
          "yaxis": {
           "automargin": true,
           "gridcolor": "white",
           "linecolor": "white",
           "ticks": "",
           "title": {
            "standoff": 15
           },
           "zerolinecolor": "white",
           "zerolinewidth": 2
          }
         }
        },
        "title": {
         "text": "User Activity by Hour"
        },
        "width": 900,
        "xaxis": {
         "anchor": "y",
         "domain": [
          0,
          1
         ],
         "tickangle": 0,
         "tickmode": "linear",
         "title": {
          "text": "Hour of the Day"
         }
        },
        "yaxis": {
         "anchor": "x",
         "domain": [
          0,
          1
         ],
         "title": {
          "text": "Number of Sessions"
         }
        }
       }
      }
     },
     "metadata": {},
     "output_type": "display_data"
    }
   ],
   "source": [
    "# Count sessions per hour\n",
    "hourly_counts = behaviours_graph[\"hour\"].value_counts().reset_index()\n",
    "hourly_counts.columns = [\"hour\", \"count\"]\n",
    "\n",
    "# Sort by hour for logical flow\n",
    "hourly_counts.sort_values(\"hour\", inplace=True)\n",
    "\n",
    "# Round counts to thousands (e.g., 152483 → 152K)\n",
    "hourly_counts[\"count_formatted\"] = hourly_counts[\"count\"].apply(lambda x: f\"{x/1000:.1f}K\")\n",
    "\n",
    "# Plot\n",
    "fig = px.bar(\n",
    "    hourly_counts, x=\"hour\", y=\"count\",\n",
    "    title=\"User Activity by Hour\",\n",
    "    labels={\"hour\": \"Hour of the Day\", \"count\": \"Number of Sessions\"},\n",
    "    text=\"count_formatted\"  # Show formatted numbers\n",
    ")\n",
    "\n",
    "# **Enhancements**\n",
    "fig.update_traces(\n",
    "    marker_color=\"royalblue\",  # Set color for bars\n",
    "    textposition=\"outside\",  # Move labels outside bars for better readability\n",
    "    hovertemplate=\"<b>Hour: %{x}</b><br>Sessions: %{y}\"  # Custom tooltip\n",
    ")\n",
    "\n",
    "fig.update_layout(\n",
    "    xaxis_tickmode=\"linear\",  # Ensure all hours appear on x-axis\n",
    "    xaxis_tickangle=0,  # Keep hour labels horizontal for clarity\n",
    "    height=500, width=900  # Adjust figure size for better spacing\n",
    ")\n",
    "\n",
    "# Show the plot\n",
    "fig.show()"
   ]
  },
  {
   "cell_type": "code",
   "execution_count": 61,
   "metadata": {},
   "outputs": [
    {
     "data": {
      "application/vnd.plotly.v1+json": {
       "config": {
        "plotlyServerURL": "https://plot.ly"
       },
       "data": [
        {
         "alignmentgroup": "True",
         "hovertemplate": "<b>Day: %{x}</b><br>Sessions: %{y}",
         "legendgroup": "",
         "marker": {
          "color": "royalblue",
          "pattern": {
           "shape": ""
          }
         },
         "name": "",
         "offsetgroup": "",
         "orientation": "v",
         "showlegend": false,
         "text": [
          "212.3K",
          "464.5K",
          "478.4K",
          "453.5K",
          "431.5K",
          "192.6K"
         ],
         "textposition": "outside",
         "type": "bar",
         "x": [
          "Sunday",
          "Monday",
          "Tuesday",
          "Wednesday",
          "Thursday",
          "Saturday"
         ],
         "xaxis": "x",
         "y": [
          212343,
          464467,
          478375,
          453494,
          431517,
          192552
         ],
         "yaxis": "y"
        }
       ],
       "layout": {
        "barmode": "relative",
        "height": 500,
        "legend": {
         "tracegroupgap": 0
        },
        "template": {
         "data": {
          "bar": [
           {
            "error_x": {
             "color": "#2a3f5f"
            },
            "error_y": {
             "color": "#2a3f5f"
            },
            "marker": {
             "line": {
              "color": "#E5ECF6",
              "width": 0.5
             },
             "pattern": {
              "fillmode": "overlay",
              "size": 10,
              "solidity": 0.2
             }
            },
            "type": "bar"
           }
          ],
          "barpolar": [
           {
            "marker": {
             "line": {
              "color": "#E5ECF6",
              "width": 0.5
             },
             "pattern": {
              "fillmode": "overlay",
              "size": 10,
              "solidity": 0.2
             }
            },
            "type": "barpolar"
           }
          ],
          "carpet": [
           {
            "aaxis": {
             "endlinecolor": "#2a3f5f",
             "gridcolor": "white",
             "linecolor": "white",
             "minorgridcolor": "white",
             "startlinecolor": "#2a3f5f"
            },
            "baxis": {
             "endlinecolor": "#2a3f5f",
             "gridcolor": "white",
             "linecolor": "white",
             "minorgridcolor": "white",
             "startlinecolor": "#2a3f5f"
            },
            "type": "carpet"
           }
          ],
          "choropleth": [
           {
            "colorbar": {
             "outlinewidth": 0,
             "ticks": ""
            },
            "type": "choropleth"
           }
          ],
          "contour": [
           {
            "colorbar": {
             "outlinewidth": 0,
             "ticks": ""
            },
            "colorscale": [
             [
              0,
              "#0d0887"
             ],
             [
              0.1111111111111111,
              "#46039f"
             ],
             [
              0.2222222222222222,
              "#7201a8"
             ],
             [
              0.3333333333333333,
              "#9c179e"
             ],
             [
              0.4444444444444444,
              "#bd3786"
             ],
             [
              0.5555555555555556,
              "#d8576b"
             ],
             [
              0.6666666666666666,
              "#ed7953"
             ],
             [
              0.7777777777777778,
              "#fb9f3a"
             ],
             [
              0.8888888888888888,
              "#fdca26"
             ],
             [
              1,
              "#f0f921"
             ]
            ],
            "type": "contour"
           }
          ],
          "contourcarpet": [
           {
            "colorbar": {
             "outlinewidth": 0,
             "ticks": ""
            },
            "type": "contourcarpet"
           }
          ],
          "heatmap": [
           {
            "colorbar": {
             "outlinewidth": 0,
             "ticks": ""
            },
            "colorscale": [
             [
              0,
              "#0d0887"
             ],
             [
              0.1111111111111111,
              "#46039f"
             ],
             [
              0.2222222222222222,
              "#7201a8"
             ],
             [
              0.3333333333333333,
              "#9c179e"
             ],
             [
              0.4444444444444444,
              "#bd3786"
             ],
             [
              0.5555555555555556,
              "#d8576b"
             ],
             [
              0.6666666666666666,
              "#ed7953"
             ],
             [
              0.7777777777777778,
              "#fb9f3a"
             ],
             [
              0.8888888888888888,
              "#fdca26"
             ],
             [
              1,
              "#f0f921"
             ]
            ],
            "type": "heatmap"
           }
          ],
          "heatmapgl": [
           {
            "colorbar": {
             "outlinewidth": 0,
             "ticks": ""
            },
            "colorscale": [
             [
              0,
              "#0d0887"
             ],
             [
              0.1111111111111111,
              "#46039f"
             ],
             [
              0.2222222222222222,
              "#7201a8"
             ],
             [
              0.3333333333333333,
              "#9c179e"
             ],
             [
              0.4444444444444444,
              "#bd3786"
             ],
             [
              0.5555555555555556,
              "#d8576b"
             ],
             [
              0.6666666666666666,
              "#ed7953"
             ],
             [
              0.7777777777777778,
              "#fb9f3a"
             ],
             [
              0.8888888888888888,
              "#fdca26"
             ],
             [
              1,
              "#f0f921"
             ]
            ],
            "type": "heatmapgl"
           }
          ],
          "histogram": [
           {
            "marker": {
             "pattern": {
              "fillmode": "overlay",
              "size": 10,
              "solidity": 0.2
             }
            },
            "type": "histogram"
           }
          ],
          "histogram2d": [
           {
            "colorbar": {
             "outlinewidth": 0,
             "ticks": ""
            },
            "colorscale": [
             [
              0,
              "#0d0887"
             ],
             [
              0.1111111111111111,
              "#46039f"
             ],
             [
              0.2222222222222222,
              "#7201a8"
             ],
             [
              0.3333333333333333,
              "#9c179e"
             ],
             [
              0.4444444444444444,
              "#bd3786"
             ],
             [
              0.5555555555555556,
              "#d8576b"
             ],
             [
              0.6666666666666666,
              "#ed7953"
             ],
             [
              0.7777777777777778,
              "#fb9f3a"
             ],
             [
              0.8888888888888888,
              "#fdca26"
             ],
             [
              1,
              "#f0f921"
             ]
            ],
            "type": "histogram2d"
           }
          ],
          "histogram2dcontour": [
           {
            "colorbar": {
             "outlinewidth": 0,
             "ticks": ""
            },
            "colorscale": [
             [
              0,
              "#0d0887"
             ],
             [
              0.1111111111111111,
              "#46039f"
             ],
             [
              0.2222222222222222,
              "#7201a8"
             ],
             [
              0.3333333333333333,
              "#9c179e"
             ],
             [
              0.4444444444444444,
              "#bd3786"
             ],
             [
              0.5555555555555556,
              "#d8576b"
             ],
             [
              0.6666666666666666,
              "#ed7953"
             ],
             [
              0.7777777777777778,
              "#fb9f3a"
             ],
             [
              0.8888888888888888,
              "#fdca26"
             ],
             [
              1,
              "#f0f921"
             ]
            ],
            "type": "histogram2dcontour"
           }
          ],
          "mesh3d": [
           {
            "colorbar": {
             "outlinewidth": 0,
             "ticks": ""
            },
            "type": "mesh3d"
           }
          ],
          "parcoords": [
           {
            "line": {
             "colorbar": {
              "outlinewidth": 0,
              "ticks": ""
             }
            },
            "type": "parcoords"
           }
          ],
          "pie": [
           {
            "automargin": true,
            "type": "pie"
           }
          ],
          "scatter": [
           {
            "fillpattern": {
             "fillmode": "overlay",
             "size": 10,
             "solidity": 0.2
            },
            "type": "scatter"
           }
          ],
          "scatter3d": [
           {
            "line": {
             "colorbar": {
              "outlinewidth": 0,
              "ticks": ""
             }
            },
            "marker": {
             "colorbar": {
              "outlinewidth": 0,
              "ticks": ""
             }
            },
            "type": "scatter3d"
           }
          ],
          "scattercarpet": [
           {
            "marker": {
             "colorbar": {
              "outlinewidth": 0,
              "ticks": ""
             }
            },
            "type": "scattercarpet"
           }
          ],
          "scattergeo": [
           {
            "marker": {
             "colorbar": {
              "outlinewidth": 0,
              "ticks": ""
             }
            },
            "type": "scattergeo"
           }
          ],
          "scattergl": [
           {
            "marker": {
             "colorbar": {
              "outlinewidth": 0,
              "ticks": ""
             }
            },
            "type": "scattergl"
           }
          ],
          "scattermapbox": [
           {
            "marker": {
             "colorbar": {
              "outlinewidth": 0,
              "ticks": ""
             }
            },
            "type": "scattermapbox"
           }
          ],
          "scatterpolar": [
           {
            "marker": {
             "colorbar": {
              "outlinewidth": 0,
              "ticks": ""
             }
            },
            "type": "scatterpolar"
           }
          ],
          "scatterpolargl": [
           {
            "marker": {
             "colorbar": {
              "outlinewidth": 0,
              "ticks": ""
             }
            },
            "type": "scatterpolargl"
           }
          ],
          "scatterternary": [
           {
            "marker": {
             "colorbar": {
              "outlinewidth": 0,
              "ticks": ""
             }
            },
            "type": "scatterternary"
           }
          ],
          "surface": [
           {
            "colorbar": {
             "outlinewidth": 0,
             "ticks": ""
            },
            "colorscale": [
             [
              0,
              "#0d0887"
             ],
             [
              0.1111111111111111,
              "#46039f"
             ],
             [
              0.2222222222222222,
              "#7201a8"
             ],
             [
              0.3333333333333333,
              "#9c179e"
             ],
             [
              0.4444444444444444,
              "#bd3786"
             ],
             [
              0.5555555555555556,
              "#d8576b"
             ],
             [
              0.6666666666666666,
              "#ed7953"
             ],
             [
              0.7777777777777778,
              "#fb9f3a"
             ],
             [
              0.8888888888888888,
              "#fdca26"
             ],
             [
              1,
              "#f0f921"
             ]
            ],
            "type": "surface"
           }
          ],
          "table": [
           {
            "cells": {
             "fill": {
              "color": "#EBF0F8"
             },
             "line": {
              "color": "white"
             }
            },
            "header": {
             "fill": {
              "color": "#C8D4E3"
             },
             "line": {
              "color": "white"
             }
            },
            "type": "table"
           }
          ]
         },
         "layout": {
          "annotationdefaults": {
           "arrowcolor": "#2a3f5f",
           "arrowhead": 0,
           "arrowwidth": 1
          },
          "autotypenumbers": "strict",
          "coloraxis": {
           "colorbar": {
            "outlinewidth": 0,
            "ticks": ""
           }
          },
          "colorscale": {
           "diverging": [
            [
             0,
             "#8e0152"
            ],
            [
             0.1,
             "#c51b7d"
            ],
            [
             0.2,
             "#de77ae"
            ],
            [
             0.3,
             "#f1b6da"
            ],
            [
             0.4,
             "#fde0ef"
            ],
            [
             0.5,
             "#f7f7f7"
            ],
            [
             0.6,
             "#e6f5d0"
            ],
            [
             0.7,
             "#b8e186"
            ],
            [
             0.8,
             "#7fbc41"
            ],
            [
             0.9,
             "#4d9221"
            ],
            [
             1,
             "#276419"
            ]
           ],
           "sequential": [
            [
             0,
             "#0d0887"
            ],
            [
             0.1111111111111111,
             "#46039f"
            ],
            [
             0.2222222222222222,
             "#7201a8"
            ],
            [
             0.3333333333333333,
             "#9c179e"
            ],
            [
             0.4444444444444444,
             "#bd3786"
            ],
            [
             0.5555555555555556,
             "#d8576b"
            ],
            [
             0.6666666666666666,
             "#ed7953"
            ],
            [
             0.7777777777777778,
             "#fb9f3a"
            ],
            [
             0.8888888888888888,
             "#fdca26"
            ],
            [
             1,
             "#f0f921"
            ]
           ],
           "sequentialminus": [
            [
             0,
             "#0d0887"
            ],
            [
             0.1111111111111111,
             "#46039f"
            ],
            [
             0.2222222222222222,
             "#7201a8"
            ],
            [
             0.3333333333333333,
             "#9c179e"
            ],
            [
             0.4444444444444444,
             "#bd3786"
            ],
            [
             0.5555555555555556,
             "#d8576b"
            ],
            [
             0.6666666666666666,
             "#ed7953"
            ],
            [
             0.7777777777777778,
             "#fb9f3a"
            ],
            [
             0.8888888888888888,
             "#fdca26"
            ],
            [
             1,
             "#f0f921"
            ]
           ]
          },
          "colorway": [
           "#636efa",
           "#EF553B",
           "#00cc96",
           "#ab63fa",
           "#FFA15A",
           "#19d3f3",
           "#FF6692",
           "#B6E880",
           "#FF97FF",
           "#FECB52"
          ],
          "font": {
           "color": "#2a3f5f"
          },
          "geo": {
           "bgcolor": "white",
           "lakecolor": "white",
           "landcolor": "#E5ECF6",
           "showlakes": true,
           "showland": true,
           "subunitcolor": "white"
          },
          "hoverlabel": {
           "align": "left"
          },
          "hovermode": "closest",
          "mapbox": {
           "style": "light"
          },
          "paper_bgcolor": "white",
          "plot_bgcolor": "#E5ECF6",
          "polar": {
           "angularaxis": {
            "gridcolor": "white",
            "linecolor": "white",
            "ticks": ""
           },
           "bgcolor": "#E5ECF6",
           "radialaxis": {
            "gridcolor": "white",
            "linecolor": "white",
            "ticks": ""
           }
          },
          "scene": {
           "xaxis": {
            "backgroundcolor": "#E5ECF6",
            "gridcolor": "white",
            "gridwidth": 2,
            "linecolor": "white",
            "showbackground": true,
            "ticks": "",
            "zerolinecolor": "white"
           },
           "yaxis": {
            "backgroundcolor": "#E5ECF6",
            "gridcolor": "white",
            "gridwidth": 2,
            "linecolor": "white",
            "showbackground": true,
            "ticks": "",
            "zerolinecolor": "white"
           },
           "zaxis": {
            "backgroundcolor": "#E5ECF6",
            "gridcolor": "white",
            "gridwidth": 2,
            "linecolor": "white",
            "showbackground": true,
            "ticks": "",
            "zerolinecolor": "white"
           }
          },
          "shapedefaults": {
           "line": {
            "color": "#2a3f5f"
           }
          },
          "ternary": {
           "aaxis": {
            "gridcolor": "white",
            "linecolor": "white",
            "ticks": ""
           },
           "baxis": {
            "gridcolor": "white",
            "linecolor": "white",
            "ticks": ""
           },
           "bgcolor": "#E5ECF6",
           "caxis": {
            "gridcolor": "white",
            "linecolor": "white",
            "ticks": ""
           }
          },
          "title": {
           "x": 0.05
          },
          "xaxis": {
           "automargin": true,
           "gridcolor": "white",
           "linecolor": "white",
           "ticks": "",
           "title": {
            "standoff": 15
           },
           "zerolinecolor": "white",
           "zerolinewidth": 2
          },
          "yaxis": {
           "automargin": true,
           "gridcolor": "white",
           "linecolor": "white",
           "ticks": "",
           "title": {
            "standoff": 15
           },
           "zerolinecolor": "white",
           "zerolinewidth": 2
          }
         }
        },
        "title": {
         "text": "User Activity by Day of the Week"
        },
        "width": 900,
        "xaxis": {
         "anchor": "y",
         "domain": [
          0,
          1
         ],
         "tickangle": 0,
         "title": {
          "text": "Day of the Week"
         }
        },
        "yaxis": {
         "anchor": "x",
         "domain": [
          0,
          1
         ],
         "title": {
          "text": "Number of Sessions"
         }
        }
       }
      }
     },
     "metadata": {},
     "output_type": "display_data"
    }
   ],
   "source": [
    "# Extract day of the week from timestamp\n",
    "behaviours_graph[\"day\"] = behaviours_graph[\"time\"].dt.day_name()\n",
    "\n",
    "# Count sessions per day\n",
    "daily_counts = behaviours_graph[\"day\"].value_counts().reset_index()\n",
    "daily_counts.columns = [\"day\", \"count\"]\n",
    "\n",
    "# Ensure days are in correct order (Monday → Sunday)\n",
    "day_order = [\"Sunday\", \"Monday\", \"Tuesday\", \"Wednesday\", \"Thursday\", \"Friday\", \"Saturday\"]\n",
    "daily_counts[\"day\"] = pd.Categorical(daily_counts[\"day\"], categories=day_order, ordered=True)\n",
    "daily_counts.sort_values(\"day\", inplace=True)\n",
    "\n",
    "# Round counts to thousands (e.g., 152483 → 152K)\n",
    "daily_counts[\"count_formatted\"] = daily_counts[\"count\"].apply(lambda x: f\"{x/1000:.1f}K\")\n",
    "\n",
    "# Plot\n",
    "fig = px.bar(\n",
    "    daily_counts, x=\"day\", y=\"count\",\n",
    "    title=\"User Activity by Day of the Week\",\n",
    "    labels={\"day\": \"Day of the Week\", \"count\": \"Number of Sessions\"},\n",
    "    text=\"count_formatted\"  # Show formatted numbers\n",
    ")\n",
    "\n",
    "# **Enhancements**\n",
    "fig.update_traces(\n",
    "    marker_color=\"royalblue\",  # Set color for bars\n",
    "    textposition=\"outside\",  # Move labels outside bars for better readability\n",
    "    hovertemplate=\"<b>Day: %{x}</b><br>Sessions: %{y}\"  # Custom tooltip\n",
    ")\n",
    "\n",
    "fig.update_layout(\n",
    "    height=500, width=900,  # Adjust figure size\n",
    "    xaxis_tickangle=0,  # Keep labels horizontal for clarity\n",
    ")"
   ]
  },
  {
   "cell_type": "code",
   "execution_count": 62,
   "metadata": {},
   "outputs": [
    {
     "name": "stdout",
     "output_type": "stream",
     "text": [
      "number of empty history users:  0\n"
     ]
    }
   ],
   "source": [
    "# Number of users with empty history\n",
    "print('number of empty history users: ', behaviours_graph.loc[behaviours_graph['history'] == 0].shape[0])"
   ]
  },
  {
   "cell_type": "code",
   "execution_count": null,
   "metadata": {},
   "outputs": [],
   "source": [
    "# Count occurrences of each user_id\n",
    "user_counts = behaviours_graph[\"user_id\"].value_counts().reset_index()\n",
    "user_counts.columns = [\"user_id\", \"count\"]\n",
    "\n",
    "# Plot the distribution\n",
    "fig = px.histogram(user_counts, x=\"count\", nbins=100, title=\"Distribution of User Activity (Number of Sessions per User)\")\n",
    "fig.update_layout(xaxis_title=\"Number of Sessions\", yaxis_title=\"Number of Users\")\n",
    "fig.show()"
   ]
  },
  {
   "cell_type": "markdown",
   "metadata": {},
   "source": [
    "**longterm vs shortterm users** This plot showcases user behaviour and the number of sessions they have logged in. As we can see, a big majority of users have only logged in less than 6 instances. This can help us with our testing later on by targetting analyses on long term users or short term users"
   ]
  },
  {
   "cell_type": "code",
   "execution_count": null,
   "metadata": {},
   "outputs": [],
   "source": [
    "# Calculate history length (number of past clicked articles per user session)\n",
    "behaviours_graph[\"history_length\"] = behaviours_graph[\"history\"].apply(\n",
    "    lambda x: len(str(x).split()) if isinstance(x, str) else 0\n",
    ")\n",
    "\n",
    "# Plot the distribution of history length\n",
    "fig = px.histogram(behaviours_graph, x=\"history_length\", nbins=100, title=\"Distribution of Click History Length per User Session\")\n",
    "\n",
    "# Customize labels\n",
    "fig.update_layout(xaxis_title=\"Number of Previously Clicked Articles\", yaxis_title=\"Number of Sessions\")\n",
    "\n",
    "# Show plot\n",
    "fig.show()"
   ]
  },
  {
   "cell_type": "markdown",
   "metadata": {},
   "source": [
    "**longterm vs shortterm users** This plot showcases that a majority of the sessions being logged in belong to people with a short history (number of previously clicked articles), elluding to the cold-start problem that this news agency is facing. \n",
    "\n",
    "Adjust our recommendation approach for users with little/no history (e.g., content-based recommendations instead of collaborative filtering)"
   ]
  },
  {
   "cell_type": "code",
   "execution_count": 66,
   "metadata": {},
   "outputs": [
    {
     "name": "stdout",
     "output_type": "stream",
     "text": [
      "[('N104737', 288723), ('N91597', 265370), ('N80126', 223323), ('N45124', 216758), ('N54360', 214684), ('N71977', 210638), ('N9375', 209931), ('N128965', 190239), ('N128643', 189950), ('N1713', 187206)]\n"
     ]
    }
   ],
   "source": [
    "# Extract all clicked news articles\n",
    "all_clicks = behaviours_graph[\"history\"].dropna().str.split()\n",
    "\n",
    "# Use itertools.chain to flatten the list efficiently\n",
    "flattened_clicks = list(itertools.chain.from_iterable(all_clicks))\n",
    "\n",
    "# Count most common news clicks\n",
    "most_clicked_news = Counter(flattened_clicks).most_common(10)\n",
    "\n",
    "# Print results\n",
    "print(most_clicked_news)"
   ]
  },
  {
   "cell_type": "markdown",
   "metadata": {},
   "source": [
    "Extracting the id's of the news titles in order to see what users are most engaged with and find the popular articles. "
   ]
  },
  {
   "cell_type": "code",
   "execution_count": 67,
   "metadata": {},
   "outputs": [
    {
     "name": "stdout",
     "output_type": "stream",
     "text": [
      "['Joe Biden reportedly denied Communion at a South Carolina church because of his stance on abortion', \"Cause determined in Jessi Combs' fatal speed record crash\", \"'Wheel Of Fortune' Guest Delivers Hilarious, Off The Rails Introduction\", \"Kevin Spacey Won't Be Charged in Sexual Assault Case After Accuser Dies\", \"Miguel Cervantes' Wife Reveals Daughter, 3, 'Died in My Arms' After Entering Hospice Care\", \"Heidi Klum's 2019 Halloween Costume Transformation Is Mind-Blowing   But, Like, What Is It?\", 'Former NBA first-round pick Jim Farmer arrested in sex sting operation', \"Four flight attendants were arrested in Miami's airport after bringing in thousands in cash, police say\", 'The News In Cartoons', \"Woman, suspect dead at 'Tarzan' actor Ron Ely's California residence\"]\n"
     ]
    }
   ],
   "source": [
    "# Extract the top 10 most clicked news IDs\n",
    "top_news_ids = [news_id for news_id, _ in most_clicked_news]\n",
    "\n",
    "# Retrieve the corresponding titles from the news dataframe\n",
    "top_news_titles = news_graph[news_graph[\"news_id\"].isin(top_news_ids)][\"title\"].tolist()\n",
    "\n",
    "# Print the list of titles\n",
    "print(top_news_titles)"
   ]
  },
  {
   "cell_type": "markdown",
   "metadata": {},
   "source": [
    "Changing the Id's of the most interacted with articles to their actual titles, to try and understand what kind of news users are interacting with the most "
   ]
  },
  {
   "cell_type": "code",
   "execution_count": null,
   "metadata": {},
   "outputs": [],
   "source": [
    "# Count clicks in each session\n",
    "behaviours_graph[\"num_clicks\"] = behaviours_graph[\"impressions\"].apply(lambda x: sum([int(i.split('-')[1]) for i in x.split()]))\n",
    "\n",
    "# Plot distribution\n",
    "fig = px.histogram(behaviours_graph, x=\"num_clicks\", nbins=100, title=\"Distribution of Number of Clicks per User Session\")\n",
    "\n",
    "# Customize labels\n",
    "fig.update_layout(xaxis_title=\"Number of Clicks per Session\", yaxis_title=\"Number of Sessions\")\n",
    "\n",
    "# Show plot\n",
    "fig.show()"
   ]
  },
  {
   "cell_type": "markdown",
   "metadata": {},
   "source": [
    "Users tend to interact very little with the platform and as shown, a huge majority are only clicking once per session"
   ]
  },
  {
   "cell_type": "code",
   "execution_count": 69,
   "metadata": {},
   "outputs": [
    {
     "data": {
      "text/plain": [
       "106"
      ]
     },
     "execution_count": 69,
     "metadata": {},
     "output_type": "execute_result"
    }
   ],
   "source": [
    "# User with max number of rows\n",
    "behaviours_graph.groupby('user_id').size().max()"
   ]
  },
  {
   "cell_type": "code",
   "execution_count": 70,
   "metadata": {},
   "outputs": [
    {
     "name": "stdout",
     "output_type": "stream",
     "text": [
      "Max number of articles in history: 801\n",
      "Number of rows with 801 rows: 60\n"
     ]
    }
   ],
   "source": [
    "# Count number of articles in the history column in each row\n",
    "behaviours_graph['history_number'] = behaviours_graph['history'].apply(lambda x: len(str(x).split()))\n",
    "\n",
    "# Find the maximum number of articles in the history column and its count\n",
    "print('Max number of articles in history:', behaviours_graph['history_number'].max())\n",
    "print('Number of rows with', behaviours_graph['history_number'].max(), 'rows:', behaviours_graph[behaviours_graph['history_number'] == behaviours_graph['history_number'].max()].shape[0])"
   ]
  },
  {
   "cell_type": "code",
   "execution_count": 71,
   "metadata": {},
   "outputs": [
    {
     "name": "stdout",
     "output_type": "stream",
     "text": [
      "77380\n"
     ]
    }
   ],
   "source": [
    "# convert history to string\n",
    "behaviours_graph['history'] = behaviours_graph['history'].astype(str)\n",
    "\n",
    "# group by user and concatente histories\n",
    "grouped_by_user = behaviours_graph.groupby('user_id')['history'].agg(lambda x: ' '.join(x))\n",
    "\n",
    "# calculate max history articles per user\n",
    "print(grouped_by_user.apply(lambda x: len(str(x).split(' '))).max())"
   ]
  },
  {
   "cell_type": "markdown",
   "metadata": {},
   "source": [
    "### Understanding Entity Interactions"
   ]
  },
  {
   "cell_type": "code",
   "execution_count": 72,
   "metadata": {},
   "outputs": [],
   "source": [
    "# define function to extract any metric from any of the entities columns\n",
    "\n",
    "def entities(df, col_number, metric):\n",
    "    entities = df.iloc[:, col_number]\n",
    "    entities = entities.dropna()\n",
    "\n",
    "    labels = []\n",
    "\n",
    "    for entity in entities:\n",
    "        entity = json.loads(entity)\n",
    "\n",
    "        for dictionary in entity:\n",
    "            labels.append(dictionary[metric])\n",
    "\n",
    "    return labels"
   ]
  },
  {
   "cell_type": "code",
   "execution_count": 73,
   "metadata": {},
   "outputs": [],
   "source": [
    "title_labels = entities(news_graph, 6, 'Label')"
   ]
  },
  {
   "cell_type": "code",
   "execution_count": 74,
   "metadata": {},
   "outputs": [],
   "source": [
    "# find 10 most and least popular labels\n",
    "title_label_counter = Counter(title_labels)\n",
    "\n",
    "bottom_10_title_labels = title_label_counter.most_common()[::-1][:10]\n",
    "top_10_title_labels = title_label_counter.most_common(10)"
   ]
  },
  {
   "cell_type": "code",
   "execution_count": 75,
   "metadata": {},
   "outputs": [
    {
     "data": {
      "text/plain": [
       "[('Donald Trump', 2391),\n",
       " ('National Football League', 943),\n",
       " ('New England Patriots', 831),\n",
       " ('Houston Astros', 770),\n",
       " ('California', 641),\n",
       " ('United States', 625),\n",
       " ('Cleveland Browns', 553),\n",
       " ('New York Yankees', 520),\n",
       " ('Halloween', 510),\n",
       " ('Republican Party (United States)', 497)]"
      ]
     },
     "execution_count": 75,
     "metadata": {},
     "output_type": "execute_result"
    }
   ],
   "source": [
    "top_10_title_labels"
   ]
  },
  {
   "cell_type": "code",
   "execution_count": 76,
   "metadata": {},
   "outputs": [
    {
     "data": {
      "text/plain": [
       "[('Dayton–Wright Brothers Airport', 1),\n",
       " ('High-stakes testing', 1),\n",
       " ('Bright spots on Ceres', 1),\n",
       " ('Supergirl (TV series)', 1),\n",
       " ('Brick Store Museum', 1),\n",
       " ('Hickory, North Carolina', 1),\n",
       " ('North Carolina Department of Public Safety', 1),\n",
       " ('Capitol/Rice Street station', 1),\n",
       " ('Ed Herman (mixed martial artist)', 1),\n",
       " (\"Alzheimer's Association\", 1)]"
      ]
     },
     "execution_count": 76,
     "metadata": {},
     "output_type": "execute_result"
    }
   ],
   "source": [
    "bottom_10_title_labels"
   ]
  },
  {
   "cell_type": "code",
   "execution_count": 77,
   "metadata": {},
   "outputs": [
    {
     "data": {
      "text/plain": [
       "{'A',\n",
       " 'B',\n",
       " 'C',\n",
       " 'E',\n",
       " 'F',\n",
       " 'G',\n",
       " 'H',\n",
       " 'I',\n",
       " 'J',\n",
       " 'K',\n",
       " 'L',\n",
       " 'M',\n",
       " 'N',\n",
       " 'O',\n",
       " 'P',\n",
       " 'Q',\n",
       " 'R',\n",
       " 'S',\n",
       " 'U',\n",
       " 'V',\n",
       " 'W',\n",
       " 'Y'}"
      ]
     },
     "execution_count": 77,
     "metadata": {},
     "output_type": "execute_result"
    }
   ],
   "source": [
    "# extract types from entities\n",
    "title_types = set(entities(news_graph, 6, 'Type'))\n",
    "title_types"
   ]
  },
  {
   "cell_type": "code",
   "execution_count": 78,
   "metadata": {},
   "outputs": [],
   "source": [
    "# extract abstract labels\n",
    "abstract_labels = entities(news_graph, 7, 'Label')"
   ]
  },
  {
   "cell_type": "code",
   "execution_count": 79,
   "metadata": {},
   "outputs": [],
   "source": [
    "# find 10 most and least popular labels\n",
    "abstract_label_counter = Counter(abstract_labels)\n",
    "\n",
    "bottom_10_abstract_labels = abstract_label_counter.most_common()[::-1][:10]\n",
    "top_10_abstract_labels = abstract_label_counter.most_common(10)"
   ]
  },
  {
   "cell_type": "code",
   "execution_count": 80,
   "metadata": {},
   "outputs": [
    {
     "data": {
      "text/plain": [
       "[('Donald Trump', 3011),\n",
       " ('United States', 1887),\n",
       " ('National Football League', 1359),\n",
       " ('New England Patriots', 1164),\n",
       " ('California', 1141),\n",
       " ('Ohio', 1015),\n",
       " ('Houston Astros', 883),\n",
       " ('Democratic Party (United States)', 867),\n",
       " ('Michigan', 865),\n",
       " ('Florida', 770)]"
      ]
     },
     "execution_count": 80,
     "metadata": {},
     "output_type": "execute_result"
    }
   ],
   "source": [
    "top_10_abstract_labels"
   ]
  },
  {
   "cell_type": "code",
   "execution_count": 81,
   "metadata": {},
   "outputs": [
    {
     "data": {
      "text/plain": [
       "[('Wayne Simmonds', 1),\n",
       " ('Jesper Bratt', 1),\n",
       " ('Chattahoochee–Oconee National Forest', 1),\n",
       " ('Guardian Angels', 1),\n",
       " ('Fahrenheit 9/11 controversies', 1),\n",
       " ('Roosevelt High School (St. Louis)', 1),\n",
       " ('Tony Stark (Marvel Cinematic Universe)', 1),\n",
       " ('Missouri Route 79', 1),\n",
       " ('Supergirl (TV series)', 1),\n",
       " ('Union of Concerned Scientists', 1)]"
      ]
     },
     "execution_count": 81,
     "metadata": {},
     "output_type": "execute_result"
    }
   ],
   "source": [
    "bottom_10_abstract_labels"
   ]
  },
  {
   "cell_type": "code",
   "execution_count": 82,
   "metadata": {},
   "outputs": [
    {
     "data": {
      "text/plain": [
       "{'A',\n",
       " 'B',\n",
       " 'C',\n",
       " 'E',\n",
       " 'F',\n",
       " 'G',\n",
       " 'H',\n",
       " 'I',\n",
       " 'J',\n",
       " 'K',\n",
       " 'L',\n",
       " 'M',\n",
       " 'N',\n",
       " 'O',\n",
       " 'P',\n",
       " 'Q',\n",
       " 'R',\n",
       " 'S',\n",
       " 'U',\n",
       " 'V',\n",
       " 'W',\n",
       " 'Y'}"
      ]
     },
     "execution_count": 82,
     "metadata": {},
     "output_type": "execute_result"
    }
   ],
   "source": [
    "# extract abstract types\n",
    "abstract_types = set(entities(news_graph, 7, 'Type'))\n",
    "abstract_types"
   ]
  },
  {
   "cell_type": "code",
   "execution_count": 13,
   "metadata": {},
   "outputs": [],
   "source": [
    "# Ensure no NaN or invalid values are passed to ast.literal_eval\n",
    "def safe_literal_eval(x):\n",
    "    if isinstance(x, str) and x != \"[]\":\n",
    "        try:\n",
    "            return ast.literal_eval(x)\n",
    "        except (ValueError, SyntaxError):\n",
    "            return []  # Return empty list if parsing fails\n",
    "    return []  # Return empty list for NaN, None, or empty strings\n",
    "\n",
    "# Convert stringified lists to actual lists if not already done\n",
    "news_graph[\"title_entities_list\"] = news_graph[\"title_entities\"].apply(safe_literal_eval)\n",
    "news_graph[\"abstract_entities_list\"] = news_graph[\"abstract_entities\"].apply(safe_literal_eval)\n",
    "\n",
    "# Combine title and abstract entities\n",
    "news_graph[\"all_entities\"] = news_graph[\"title_entities_list\"] + news_graph[\"abstract_entities_list\"]\n",
    "\n",
    "# Count number of entities for each article\n",
    "news_graph[\"entity_count\"] = news_graph[\"all_entities\"].apply(len)\n",
    "\n",
    "# Now calculate average entity count per category\n",
    "avg_entity_count = news_graph.groupby(\"category\")[\"entity_count\"].mean().reset_index()\n"
   ]
  },
  {
   "cell_type": "code",
   "execution_count": 14,
   "metadata": {},
   "outputs": [
    {
     "data": {
      "application/vnd.plotly.v1+json": {
       "config": {
        "plotlyServerURL": "https://plot.ly"
       },
       "data": [
        {
         "alignmentgroup": "True",
         "hovertemplate": "Category=%{x}<br>Avg Entity Count=%{text}<extra></extra>",
         "legendgroup": "",
         "marker": {
          "color": "royalblue",
          "pattern": {
           "shape": ""
          }
         },
         "name": "",
         "offsetgroup": "",
         "orientation": "v",
         "showlegend": false,
         "text": [
          7,
          6,
          5,
          4.3,
          3.9,
          3.6,
          3.4,
          3.3,
          3.2,
          2.9,
          2.8,
          2.6,
          2.3,
          2.3,
          2.1,
          1.8,
          1.5,
          1.5
         ],
         "textposition": "outside",
         "type": "bar",
         "x": [
          "northamerica",
          "middleeast",
          "games",
          "music",
          "sports",
          "movies",
          "video",
          "tv",
          "news",
          "travel",
          "weather",
          "entertainment",
          "finance",
          "autos",
          "foodanddrink",
          "lifestyle",
          "kids",
          "health"
         ],
         "xaxis": "x",
         "y": [
          7,
          6,
          5,
          4.3,
          3.9,
          3.6,
          3.4,
          3.3,
          3.2,
          2.9,
          2.8,
          2.6,
          2.3,
          2.3,
          2.1,
          1.8,
          1.5,
          1.5
         ],
         "yaxis": "y"
        }
       ],
       "layout": {
        "barmode": "relative",
        "height": 500,
        "legend": {
         "tracegroupgap": 0
        },
        "template": {
         "data": {
          "bar": [
           {
            "error_x": {
             "color": "#2a3f5f"
            },
            "error_y": {
             "color": "#2a3f5f"
            },
            "marker": {
             "line": {
              "color": "#E5ECF6",
              "width": 0.5
             },
             "pattern": {
              "fillmode": "overlay",
              "size": 10,
              "solidity": 0.2
             }
            },
            "type": "bar"
           }
          ],
          "barpolar": [
           {
            "marker": {
             "line": {
              "color": "#E5ECF6",
              "width": 0.5
             },
             "pattern": {
              "fillmode": "overlay",
              "size": 10,
              "solidity": 0.2
             }
            },
            "type": "barpolar"
           }
          ],
          "carpet": [
           {
            "aaxis": {
             "endlinecolor": "#2a3f5f",
             "gridcolor": "white",
             "linecolor": "white",
             "minorgridcolor": "white",
             "startlinecolor": "#2a3f5f"
            },
            "baxis": {
             "endlinecolor": "#2a3f5f",
             "gridcolor": "white",
             "linecolor": "white",
             "minorgridcolor": "white",
             "startlinecolor": "#2a3f5f"
            },
            "type": "carpet"
           }
          ],
          "choropleth": [
           {
            "colorbar": {
             "outlinewidth": 0,
             "ticks": ""
            },
            "type": "choropleth"
           }
          ],
          "contour": [
           {
            "colorbar": {
             "outlinewidth": 0,
             "ticks": ""
            },
            "colorscale": [
             [
              0,
              "#0d0887"
             ],
             [
              0.1111111111111111,
              "#46039f"
             ],
             [
              0.2222222222222222,
              "#7201a8"
             ],
             [
              0.3333333333333333,
              "#9c179e"
             ],
             [
              0.4444444444444444,
              "#bd3786"
             ],
             [
              0.5555555555555556,
              "#d8576b"
             ],
             [
              0.6666666666666666,
              "#ed7953"
             ],
             [
              0.7777777777777778,
              "#fb9f3a"
             ],
             [
              0.8888888888888888,
              "#fdca26"
             ],
             [
              1,
              "#f0f921"
             ]
            ],
            "type": "contour"
           }
          ],
          "contourcarpet": [
           {
            "colorbar": {
             "outlinewidth": 0,
             "ticks": ""
            },
            "type": "contourcarpet"
           }
          ],
          "heatmap": [
           {
            "colorbar": {
             "outlinewidth": 0,
             "ticks": ""
            },
            "colorscale": [
             [
              0,
              "#0d0887"
             ],
             [
              0.1111111111111111,
              "#46039f"
             ],
             [
              0.2222222222222222,
              "#7201a8"
             ],
             [
              0.3333333333333333,
              "#9c179e"
             ],
             [
              0.4444444444444444,
              "#bd3786"
             ],
             [
              0.5555555555555556,
              "#d8576b"
             ],
             [
              0.6666666666666666,
              "#ed7953"
             ],
             [
              0.7777777777777778,
              "#fb9f3a"
             ],
             [
              0.8888888888888888,
              "#fdca26"
             ],
             [
              1,
              "#f0f921"
             ]
            ],
            "type": "heatmap"
           }
          ],
          "heatmapgl": [
           {
            "colorbar": {
             "outlinewidth": 0,
             "ticks": ""
            },
            "colorscale": [
             [
              0,
              "#0d0887"
             ],
             [
              0.1111111111111111,
              "#46039f"
             ],
             [
              0.2222222222222222,
              "#7201a8"
             ],
             [
              0.3333333333333333,
              "#9c179e"
             ],
             [
              0.4444444444444444,
              "#bd3786"
             ],
             [
              0.5555555555555556,
              "#d8576b"
             ],
             [
              0.6666666666666666,
              "#ed7953"
             ],
             [
              0.7777777777777778,
              "#fb9f3a"
             ],
             [
              0.8888888888888888,
              "#fdca26"
             ],
             [
              1,
              "#f0f921"
             ]
            ],
            "type": "heatmapgl"
           }
          ],
          "histogram": [
           {
            "marker": {
             "pattern": {
              "fillmode": "overlay",
              "size": 10,
              "solidity": 0.2
             }
            },
            "type": "histogram"
           }
          ],
          "histogram2d": [
           {
            "colorbar": {
             "outlinewidth": 0,
             "ticks": ""
            },
            "colorscale": [
             [
              0,
              "#0d0887"
             ],
             [
              0.1111111111111111,
              "#46039f"
             ],
             [
              0.2222222222222222,
              "#7201a8"
             ],
             [
              0.3333333333333333,
              "#9c179e"
             ],
             [
              0.4444444444444444,
              "#bd3786"
             ],
             [
              0.5555555555555556,
              "#d8576b"
             ],
             [
              0.6666666666666666,
              "#ed7953"
             ],
             [
              0.7777777777777778,
              "#fb9f3a"
             ],
             [
              0.8888888888888888,
              "#fdca26"
             ],
             [
              1,
              "#f0f921"
             ]
            ],
            "type": "histogram2d"
           }
          ],
          "histogram2dcontour": [
           {
            "colorbar": {
             "outlinewidth": 0,
             "ticks": ""
            },
            "colorscale": [
             [
              0,
              "#0d0887"
             ],
             [
              0.1111111111111111,
              "#46039f"
             ],
             [
              0.2222222222222222,
              "#7201a8"
             ],
             [
              0.3333333333333333,
              "#9c179e"
             ],
             [
              0.4444444444444444,
              "#bd3786"
             ],
             [
              0.5555555555555556,
              "#d8576b"
             ],
             [
              0.6666666666666666,
              "#ed7953"
             ],
             [
              0.7777777777777778,
              "#fb9f3a"
             ],
             [
              0.8888888888888888,
              "#fdca26"
             ],
             [
              1,
              "#f0f921"
             ]
            ],
            "type": "histogram2dcontour"
           }
          ],
          "mesh3d": [
           {
            "colorbar": {
             "outlinewidth": 0,
             "ticks": ""
            },
            "type": "mesh3d"
           }
          ],
          "parcoords": [
           {
            "line": {
             "colorbar": {
              "outlinewidth": 0,
              "ticks": ""
             }
            },
            "type": "parcoords"
           }
          ],
          "pie": [
           {
            "automargin": true,
            "type": "pie"
           }
          ],
          "scatter": [
           {
            "fillpattern": {
             "fillmode": "overlay",
             "size": 10,
             "solidity": 0.2
            },
            "type": "scatter"
           }
          ],
          "scatter3d": [
           {
            "line": {
             "colorbar": {
              "outlinewidth": 0,
              "ticks": ""
             }
            },
            "marker": {
             "colorbar": {
              "outlinewidth": 0,
              "ticks": ""
             }
            },
            "type": "scatter3d"
           }
          ],
          "scattercarpet": [
           {
            "marker": {
             "colorbar": {
              "outlinewidth": 0,
              "ticks": ""
             }
            },
            "type": "scattercarpet"
           }
          ],
          "scattergeo": [
           {
            "marker": {
             "colorbar": {
              "outlinewidth": 0,
              "ticks": ""
             }
            },
            "type": "scattergeo"
           }
          ],
          "scattergl": [
           {
            "marker": {
             "colorbar": {
              "outlinewidth": 0,
              "ticks": ""
             }
            },
            "type": "scattergl"
           }
          ],
          "scattermapbox": [
           {
            "marker": {
             "colorbar": {
              "outlinewidth": 0,
              "ticks": ""
             }
            },
            "type": "scattermapbox"
           }
          ],
          "scatterpolar": [
           {
            "marker": {
             "colorbar": {
              "outlinewidth": 0,
              "ticks": ""
             }
            },
            "type": "scatterpolar"
           }
          ],
          "scatterpolargl": [
           {
            "marker": {
             "colorbar": {
              "outlinewidth": 0,
              "ticks": ""
             }
            },
            "type": "scatterpolargl"
           }
          ],
          "scatterternary": [
           {
            "marker": {
             "colorbar": {
              "outlinewidth": 0,
              "ticks": ""
             }
            },
            "type": "scatterternary"
           }
          ],
          "surface": [
           {
            "colorbar": {
             "outlinewidth": 0,
             "ticks": ""
            },
            "colorscale": [
             [
              0,
              "#0d0887"
             ],
             [
              0.1111111111111111,
              "#46039f"
             ],
             [
              0.2222222222222222,
              "#7201a8"
             ],
             [
              0.3333333333333333,
              "#9c179e"
             ],
             [
              0.4444444444444444,
              "#bd3786"
             ],
             [
              0.5555555555555556,
              "#d8576b"
             ],
             [
              0.6666666666666666,
              "#ed7953"
             ],
             [
              0.7777777777777778,
              "#fb9f3a"
             ],
             [
              0.8888888888888888,
              "#fdca26"
             ],
             [
              1,
              "#f0f921"
             ]
            ],
            "type": "surface"
           }
          ],
          "table": [
           {
            "cells": {
             "fill": {
              "color": "#EBF0F8"
             },
             "line": {
              "color": "white"
             }
            },
            "header": {
             "fill": {
              "color": "#C8D4E3"
             },
             "line": {
              "color": "white"
             }
            },
            "type": "table"
           }
          ]
         },
         "layout": {
          "annotationdefaults": {
           "arrowcolor": "#2a3f5f",
           "arrowhead": 0,
           "arrowwidth": 1
          },
          "autotypenumbers": "strict",
          "coloraxis": {
           "colorbar": {
            "outlinewidth": 0,
            "ticks": ""
           }
          },
          "colorscale": {
           "diverging": [
            [
             0,
             "#8e0152"
            ],
            [
             0.1,
             "#c51b7d"
            ],
            [
             0.2,
             "#de77ae"
            ],
            [
             0.3,
             "#f1b6da"
            ],
            [
             0.4,
             "#fde0ef"
            ],
            [
             0.5,
             "#f7f7f7"
            ],
            [
             0.6,
             "#e6f5d0"
            ],
            [
             0.7,
             "#b8e186"
            ],
            [
             0.8,
             "#7fbc41"
            ],
            [
             0.9,
             "#4d9221"
            ],
            [
             1,
             "#276419"
            ]
           ],
           "sequential": [
            [
             0,
             "#0d0887"
            ],
            [
             0.1111111111111111,
             "#46039f"
            ],
            [
             0.2222222222222222,
             "#7201a8"
            ],
            [
             0.3333333333333333,
             "#9c179e"
            ],
            [
             0.4444444444444444,
             "#bd3786"
            ],
            [
             0.5555555555555556,
             "#d8576b"
            ],
            [
             0.6666666666666666,
             "#ed7953"
            ],
            [
             0.7777777777777778,
             "#fb9f3a"
            ],
            [
             0.8888888888888888,
             "#fdca26"
            ],
            [
             1,
             "#f0f921"
            ]
           ],
           "sequentialminus": [
            [
             0,
             "#0d0887"
            ],
            [
             0.1111111111111111,
             "#46039f"
            ],
            [
             0.2222222222222222,
             "#7201a8"
            ],
            [
             0.3333333333333333,
             "#9c179e"
            ],
            [
             0.4444444444444444,
             "#bd3786"
            ],
            [
             0.5555555555555556,
             "#d8576b"
            ],
            [
             0.6666666666666666,
             "#ed7953"
            ],
            [
             0.7777777777777778,
             "#fb9f3a"
            ],
            [
             0.8888888888888888,
             "#fdca26"
            ],
            [
             1,
             "#f0f921"
            ]
           ]
          },
          "colorway": [
           "#636efa",
           "#EF553B",
           "#00cc96",
           "#ab63fa",
           "#FFA15A",
           "#19d3f3",
           "#FF6692",
           "#B6E880",
           "#FF97FF",
           "#FECB52"
          ],
          "font": {
           "color": "#2a3f5f"
          },
          "geo": {
           "bgcolor": "white",
           "lakecolor": "white",
           "landcolor": "#E5ECF6",
           "showlakes": true,
           "showland": true,
           "subunitcolor": "white"
          },
          "hoverlabel": {
           "align": "left"
          },
          "hovermode": "closest",
          "mapbox": {
           "style": "light"
          },
          "paper_bgcolor": "white",
          "plot_bgcolor": "#E5ECF6",
          "polar": {
           "angularaxis": {
            "gridcolor": "white",
            "linecolor": "white",
            "ticks": ""
           },
           "bgcolor": "#E5ECF6",
           "radialaxis": {
            "gridcolor": "white",
            "linecolor": "white",
            "ticks": ""
           }
          },
          "scene": {
           "xaxis": {
            "backgroundcolor": "#E5ECF6",
            "gridcolor": "white",
            "gridwidth": 2,
            "linecolor": "white",
            "showbackground": true,
            "ticks": "",
            "zerolinecolor": "white"
           },
           "yaxis": {
            "backgroundcolor": "#E5ECF6",
            "gridcolor": "white",
            "gridwidth": 2,
            "linecolor": "white",
            "showbackground": true,
            "ticks": "",
            "zerolinecolor": "white"
           },
           "zaxis": {
            "backgroundcolor": "#E5ECF6",
            "gridcolor": "white",
            "gridwidth": 2,
            "linecolor": "white",
            "showbackground": true,
            "ticks": "",
            "zerolinecolor": "white"
           }
          },
          "shapedefaults": {
           "line": {
            "color": "#2a3f5f"
           }
          },
          "ternary": {
           "aaxis": {
            "gridcolor": "white",
            "linecolor": "white",
            "ticks": ""
           },
           "baxis": {
            "gridcolor": "white",
            "linecolor": "white",
            "ticks": ""
           },
           "bgcolor": "#E5ECF6",
           "caxis": {
            "gridcolor": "white",
            "linecolor": "white",
            "ticks": ""
           }
          },
          "title": {
           "x": 0.05
          },
          "xaxis": {
           "automargin": true,
           "gridcolor": "white",
           "linecolor": "white",
           "ticks": "",
           "title": {
            "standoff": 15
           },
           "zerolinecolor": "white",
           "zerolinewidth": 2
          },
          "yaxis": {
           "automargin": true,
           "gridcolor": "white",
           "linecolor": "white",
           "ticks": "",
           "title": {
            "standoff": 15
           },
           "zerolinecolor": "white",
           "zerolinewidth": 2
          }
         }
        },
        "title": {
         "text": "Average Number of Entities per News Article by Category"
        },
        "width": 900,
        "xaxis": {
         "anchor": "y",
         "domain": [
          0,
          1
         ],
         "tickangle": -45,
         "title": {
          "text": "Category"
         }
        },
        "yaxis": {
         "anchor": "x",
         "domain": [
          0,
          1
         ],
         "title": {
          "text": "Avg Entity Count"
         }
        }
       }
      }
     },
     "metadata": {},
     "output_type": "display_data"
    }
   ],
   "source": [
    "# Round entity count for better readability\n",
    "avg_entity_count[\"entity_count\"] = avg_entity_count[\"entity_count\"].round(1)\n",
    "\n",
    "# Sort categories by entity count (descending)\n",
    "avg_entity_count = avg_entity_count.sort_values(by=\"entity_count\", ascending=False)\n",
    "\n",
    "# Plot\n",
    "fig = px.bar(avg_entity_count, x=\"category\", y=\"entity_count\",\n",
    "             title=\"Average Number of Entities per News Article by Category\",\n",
    "             labels={\"category\": \"Category\", \"entity_count\": \"Avg Entity Count\"},\n",
    "             text=\"entity_count\")\n",
    "\n",
    "# **Enhancements**\n",
    "fig.update_traces(textposition=\"outside\", marker_color=\"royalblue\")\n",
    "fig.update_layout(xaxis_tickangle=-45, height=500, width=900)\n",
    "\n",
    "fig.show()\n"
   ]
  },
  {
   "cell_type": "code",
   "execution_count": 15,
   "metadata": {},
   "outputs": [
    {
     "data": {
      "application/vnd.plotly.v1+json": {
       "config": {
        "plotlyServerURL": "https://plot.ly"
       },
       "data": [
        {
         "alignmentgroup": "True",
         "hovertemplate": "Entity=%{x}<br>Count=%{text}<extra></extra>",
         "legendgroup": "",
         "marker": {
          "color": "#636efa",
          "pattern": {
           "shape": ""
          }
         },
         "name": "",
         "offsetgroup": "",
         "orientation": "v",
         "showlegend": false,
         "text": [
          5402,
          2512,
          2302,
          1995,
          1782,
          1653,
          1329,
          1264,
          1261,
          1242,
          1223,
          1216,
          1084,
          1048,
          1035
         ],
         "textposition": "auto",
         "type": "bar",
         "x": [
          "Donald Trump",
          "United States",
          "National Football League",
          "New England Patriots",
          "California",
          "Houston Astros",
          "Democratic Party (United States)",
          "Florida",
          "Republican Party (United States)",
          "Michigan",
          "Ohio",
          "Cleveland Browns",
          "Ukraine",
          "New York Yankees",
          "Halloween"
         ],
         "xaxis": "x",
         "y": [
          5402,
          2512,
          2302,
          1995,
          1782,
          1653,
          1329,
          1264,
          1261,
          1242,
          1223,
          1216,
          1084,
          1048,
          1035
         ],
         "yaxis": "y"
        }
       ],
       "layout": {
        "barmode": "relative",
        "legend": {
         "tracegroupgap": 0
        },
        "template": {
         "data": {
          "bar": [
           {
            "error_x": {
             "color": "#2a3f5f"
            },
            "error_y": {
             "color": "#2a3f5f"
            },
            "marker": {
             "line": {
              "color": "#E5ECF6",
              "width": 0.5
             },
             "pattern": {
              "fillmode": "overlay",
              "size": 10,
              "solidity": 0.2
             }
            },
            "type": "bar"
           }
          ],
          "barpolar": [
           {
            "marker": {
             "line": {
              "color": "#E5ECF6",
              "width": 0.5
             },
             "pattern": {
              "fillmode": "overlay",
              "size": 10,
              "solidity": 0.2
             }
            },
            "type": "barpolar"
           }
          ],
          "carpet": [
           {
            "aaxis": {
             "endlinecolor": "#2a3f5f",
             "gridcolor": "white",
             "linecolor": "white",
             "minorgridcolor": "white",
             "startlinecolor": "#2a3f5f"
            },
            "baxis": {
             "endlinecolor": "#2a3f5f",
             "gridcolor": "white",
             "linecolor": "white",
             "minorgridcolor": "white",
             "startlinecolor": "#2a3f5f"
            },
            "type": "carpet"
           }
          ],
          "choropleth": [
           {
            "colorbar": {
             "outlinewidth": 0,
             "ticks": ""
            },
            "type": "choropleth"
           }
          ],
          "contour": [
           {
            "colorbar": {
             "outlinewidth": 0,
             "ticks": ""
            },
            "colorscale": [
             [
              0,
              "#0d0887"
             ],
             [
              0.1111111111111111,
              "#46039f"
             ],
             [
              0.2222222222222222,
              "#7201a8"
             ],
             [
              0.3333333333333333,
              "#9c179e"
             ],
             [
              0.4444444444444444,
              "#bd3786"
             ],
             [
              0.5555555555555556,
              "#d8576b"
             ],
             [
              0.6666666666666666,
              "#ed7953"
             ],
             [
              0.7777777777777778,
              "#fb9f3a"
             ],
             [
              0.8888888888888888,
              "#fdca26"
             ],
             [
              1,
              "#f0f921"
             ]
            ],
            "type": "contour"
           }
          ],
          "contourcarpet": [
           {
            "colorbar": {
             "outlinewidth": 0,
             "ticks": ""
            },
            "type": "contourcarpet"
           }
          ],
          "heatmap": [
           {
            "colorbar": {
             "outlinewidth": 0,
             "ticks": ""
            },
            "colorscale": [
             [
              0,
              "#0d0887"
             ],
             [
              0.1111111111111111,
              "#46039f"
             ],
             [
              0.2222222222222222,
              "#7201a8"
             ],
             [
              0.3333333333333333,
              "#9c179e"
             ],
             [
              0.4444444444444444,
              "#bd3786"
             ],
             [
              0.5555555555555556,
              "#d8576b"
             ],
             [
              0.6666666666666666,
              "#ed7953"
             ],
             [
              0.7777777777777778,
              "#fb9f3a"
             ],
             [
              0.8888888888888888,
              "#fdca26"
             ],
             [
              1,
              "#f0f921"
             ]
            ],
            "type": "heatmap"
           }
          ],
          "heatmapgl": [
           {
            "colorbar": {
             "outlinewidth": 0,
             "ticks": ""
            },
            "colorscale": [
             [
              0,
              "#0d0887"
             ],
             [
              0.1111111111111111,
              "#46039f"
             ],
             [
              0.2222222222222222,
              "#7201a8"
             ],
             [
              0.3333333333333333,
              "#9c179e"
             ],
             [
              0.4444444444444444,
              "#bd3786"
             ],
             [
              0.5555555555555556,
              "#d8576b"
             ],
             [
              0.6666666666666666,
              "#ed7953"
             ],
             [
              0.7777777777777778,
              "#fb9f3a"
             ],
             [
              0.8888888888888888,
              "#fdca26"
             ],
             [
              1,
              "#f0f921"
             ]
            ],
            "type": "heatmapgl"
           }
          ],
          "histogram": [
           {
            "marker": {
             "pattern": {
              "fillmode": "overlay",
              "size": 10,
              "solidity": 0.2
             }
            },
            "type": "histogram"
           }
          ],
          "histogram2d": [
           {
            "colorbar": {
             "outlinewidth": 0,
             "ticks": ""
            },
            "colorscale": [
             [
              0,
              "#0d0887"
             ],
             [
              0.1111111111111111,
              "#46039f"
             ],
             [
              0.2222222222222222,
              "#7201a8"
             ],
             [
              0.3333333333333333,
              "#9c179e"
             ],
             [
              0.4444444444444444,
              "#bd3786"
             ],
             [
              0.5555555555555556,
              "#d8576b"
             ],
             [
              0.6666666666666666,
              "#ed7953"
             ],
             [
              0.7777777777777778,
              "#fb9f3a"
             ],
             [
              0.8888888888888888,
              "#fdca26"
             ],
             [
              1,
              "#f0f921"
             ]
            ],
            "type": "histogram2d"
           }
          ],
          "histogram2dcontour": [
           {
            "colorbar": {
             "outlinewidth": 0,
             "ticks": ""
            },
            "colorscale": [
             [
              0,
              "#0d0887"
             ],
             [
              0.1111111111111111,
              "#46039f"
             ],
             [
              0.2222222222222222,
              "#7201a8"
             ],
             [
              0.3333333333333333,
              "#9c179e"
             ],
             [
              0.4444444444444444,
              "#bd3786"
             ],
             [
              0.5555555555555556,
              "#d8576b"
             ],
             [
              0.6666666666666666,
              "#ed7953"
             ],
             [
              0.7777777777777778,
              "#fb9f3a"
             ],
             [
              0.8888888888888888,
              "#fdca26"
             ],
             [
              1,
              "#f0f921"
             ]
            ],
            "type": "histogram2dcontour"
           }
          ],
          "mesh3d": [
           {
            "colorbar": {
             "outlinewidth": 0,
             "ticks": ""
            },
            "type": "mesh3d"
           }
          ],
          "parcoords": [
           {
            "line": {
             "colorbar": {
              "outlinewidth": 0,
              "ticks": ""
             }
            },
            "type": "parcoords"
           }
          ],
          "pie": [
           {
            "automargin": true,
            "type": "pie"
           }
          ],
          "scatter": [
           {
            "fillpattern": {
             "fillmode": "overlay",
             "size": 10,
             "solidity": 0.2
            },
            "type": "scatter"
           }
          ],
          "scatter3d": [
           {
            "line": {
             "colorbar": {
              "outlinewidth": 0,
              "ticks": ""
             }
            },
            "marker": {
             "colorbar": {
              "outlinewidth": 0,
              "ticks": ""
             }
            },
            "type": "scatter3d"
           }
          ],
          "scattercarpet": [
           {
            "marker": {
             "colorbar": {
              "outlinewidth": 0,
              "ticks": ""
             }
            },
            "type": "scattercarpet"
           }
          ],
          "scattergeo": [
           {
            "marker": {
             "colorbar": {
              "outlinewidth": 0,
              "ticks": ""
             }
            },
            "type": "scattergeo"
           }
          ],
          "scattergl": [
           {
            "marker": {
             "colorbar": {
              "outlinewidth": 0,
              "ticks": ""
             }
            },
            "type": "scattergl"
           }
          ],
          "scattermapbox": [
           {
            "marker": {
             "colorbar": {
              "outlinewidth": 0,
              "ticks": ""
             }
            },
            "type": "scattermapbox"
           }
          ],
          "scatterpolar": [
           {
            "marker": {
             "colorbar": {
              "outlinewidth": 0,
              "ticks": ""
             }
            },
            "type": "scatterpolar"
           }
          ],
          "scatterpolargl": [
           {
            "marker": {
             "colorbar": {
              "outlinewidth": 0,
              "ticks": ""
             }
            },
            "type": "scatterpolargl"
           }
          ],
          "scatterternary": [
           {
            "marker": {
             "colorbar": {
              "outlinewidth": 0,
              "ticks": ""
             }
            },
            "type": "scatterternary"
           }
          ],
          "surface": [
           {
            "colorbar": {
             "outlinewidth": 0,
             "ticks": ""
            },
            "colorscale": [
             [
              0,
              "#0d0887"
             ],
             [
              0.1111111111111111,
              "#46039f"
             ],
             [
              0.2222222222222222,
              "#7201a8"
             ],
             [
              0.3333333333333333,
              "#9c179e"
             ],
             [
              0.4444444444444444,
              "#bd3786"
             ],
             [
              0.5555555555555556,
              "#d8576b"
             ],
             [
              0.6666666666666666,
              "#ed7953"
             ],
             [
              0.7777777777777778,
              "#fb9f3a"
             ],
             [
              0.8888888888888888,
              "#fdca26"
             ],
             [
              1,
              "#f0f921"
             ]
            ],
            "type": "surface"
           }
          ],
          "table": [
           {
            "cells": {
             "fill": {
              "color": "#EBF0F8"
             },
             "line": {
              "color": "white"
             }
            },
            "header": {
             "fill": {
              "color": "#C8D4E3"
             },
             "line": {
              "color": "white"
             }
            },
            "type": "table"
           }
          ]
         },
         "layout": {
          "annotationdefaults": {
           "arrowcolor": "#2a3f5f",
           "arrowhead": 0,
           "arrowwidth": 1
          },
          "autotypenumbers": "strict",
          "coloraxis": {
           "colorbar": {
            "outlinewidth": 0,
            "ticks": ""
           }
          },
          "colorscale": {
           "diverging": [
            [
             0,
             "#8e0152"
            ],
            [
             0.1,
             "#c51b7d"
            ],
            [
             0.2,
             "#de77ae"
            ],
            [
             0.3,
             "#f1b6da"
            ],
            [
             0.4,
             "#fde0ef"
            ],
            [
             0.5,
             "#f7f7f7"
            ],
            [
             0.6,
             "#e6f5d0"
            ],
            [
             0.7,
             "#b8e186"
            ],
            [
             0.8,
             "#7fbc41"
            ],
            [
             0.9,
             "#4d9221"
            ],
            [
             1,
             "#276419"
            ]
           ],
           "sequential": [
            [
             0,
             "#0d0887"
            ],
            [
             0.1111111111111111,
             "#46039f"
            ],
            [
             0.2222222222222222,
             "#7201a8"
            ],
            [
             0.3333333333333333,
             "#9c179e"
            ],
            [
             0.4444444444444444,
             "#bd3786"
            ],
            [
             0.5555555555555556,
             "#d8576b"
            ],
            [
             0.6666666666666666,
             "#ed7953"
            ],
            [
             0.7777777777777778,
             "#fb9f3a"
            ],
            [
             0.8888888888888888,
             "#fdca26"
            ],
            [
             1,
             "#f0f921"
            ]
           ],
           "sequentialminus": [
            [
             0,
             "#0d0887"
            ],
            [
             0.1111111111111111,
             "#46039f"
            ],
            [
             0.2222222222222222,
             "#7201a8"
            ],
            [
             0.3333333333333333,
             "#9c179e"
            ],
            [
             0.4444444444444444,
             "#bd3786"
            ],
            [
             0.5555555555555556,
             "#d8576b"
            ],
            [
             0.6666666666666666,
             "#ed7953"
            ],
            [
             0.7777777777777778,
             "#fb9f3a"
            ],
            [
             0.8888888888888888,
             "#fdca26"
            ],
            [
             1,
             "#f0f921"
            ]
           ]
          },
          "colorway": [
           "#636efa",
           "#EF553B",
           "#00cc96",
           "#ab63fa",
           "#FFA15A",
           "#19d3f3",
           "#FF6692",
           "#B6E880",
           "#FF97FF",
           "#FECB52"
          ],
          "font": {
           "color": "#2a3f5f"
          },
          "geo": {
           "bgcolor": "white",
           "lakecolor": "white",
           "landcolor": "#E5ECF6",
           "showlakes": true,
           "showland": true,
           "subunitcolor": "white"
          },
          "hoverlabel": {
           "align": "left"
          },
          "hovermode": "closest",
          "mapbox": {
           "style": "light"
          },
          "paper_bgcolor": "white",
          "plot_bgcolor": "#E5ECF6",
          "polar": {
           "angularaxis": {
            "gridcolor": "white",
            "linecolor": "white",
            "ticks": ""
           },
           "bgcolor": "#E5ECF6",
           "radialaxis": {
            "gridcolor": "white",
            "linecolor": "white",
            "ticks": ""
           }
          },
          "scene": {
           "xaxis": {
            "backgroundcolor": "#E5ECF6",
            "gridcolor": "white",
            "gridwidth": 2,
            "linecolor": "white",
            "showbackground": true,
            "ticks": "",
            "zerolinecolor": "white"
           },
           "yaxis": {
            "backgroundcolor": "#E5ECF6",
            "gridcolor": "white",
            "gridwidth": 2,
            "linecolor": "white",
            "showbackground": true,
            "ticks": "",
            "zerolinecolor": "white"
           },
           "zaxis": {
            "backgroundcolor": "#E5ECF6",
            "gridcolor": "white",
            "gridwidth": 2,
            "linecolor": "white",
            "showbackground": true,
            "ticks": "",
            "zerolinecolor": "white"
           }
          },
          "shapedefaults": {
           "line": {
            "color": "#2a3f5f"
           }
          },
          "ternary": {
           "aaxis": {
            "gridcolor": "white",
            "linecolor": "white",
            "ticks": ""
           },
           "baxis": {
            "gridcolor": "white",
            "linecolor": "white",
            "ticks": ""
           },
           "bgcolor": "#E5ECF6",
           "caxis": {
            "gridcolor": "white",
            "linecolor": "white",
            "ticks": ""
           }
          },
          "title": {
           "x": 0.05
          },
          "xaxis": {
           "automargin": true,
           "gridcolor": "white",
           "linecolor": "white",
           "ticks": "",
           "title": {
            "standoff": 15
           },
           "zerolinecolor": "white",
           "zerolinewidth": 2
          },
          "yaxis": {
           "automargin": true,
           "gridcolor": "white",
           "linecolor": "white",
           "ticks": "",
           "title": {
            "standoff": 15
           },
           "zerolinecolor": "white",
           "zerolinewidth": 2
          }
         }
        },
        "title": {
         "text": "Top Entities Mentioned in News Titles"
        },
        "xaxis": {
         "anchor": "y",
         "domain": [
          0,
          1
         ],
         "tickangle": -45,
         "title": {
          "text": "Entity"
         }
        },
        "yaxis": {
         "anchor": "x",
         "domain": [
          0,
          1
         ],
         "title": {
          "text": "Count"
         }
        }
       }
      }
     },
     "metadata": {},
     "output_type": "display_data"
    }
   ],
   "source": [
    "# Combine title and abstract entities\n",
    "news_graph[\"all_entities\"] = news_graph[\"title_entities_list\"] + news_graph[\"abstract_entities_list\"]\n",
    "\n",
    "# Extract only entity names\n",
    "all_entities = [entity[\"Label\"] for sublist in news_graph[\"all_entities\"] for entity in sublist]\n",
    "\n",
    "# Count most common entities\n",
    "most_common_entities = Counter(all_entities).most_common(15)\n",
    "entities_df = pd.DataFrame(most_common_entities, columns=[\"entity\", \"count\"])\n",
    "\n",
    "# Plot most common entities\n",
    "fig = px.bar(entities_df, x=\"entity\", y=\"count\",\n",
    "             title=\"Top Entities Mentioned in News Titles\",\n",
    "             labels={\"entity\": \"Entity\", \"count\": \"Count\"},\n",
    "             text=\"count\")\n",
    "\n",
    "fig.update_layout(xaxis_tickangle=-45)\n",
    "fig.show()"
   ]
  }
 ],
 "metadata": {
  "kernelspec": {
   "display_name": "pda2",
   "language": "python",
   "name": "pda2"
  },
  "language_info": {
   "codemirror_mode": {
    "name": "ipython",
    "version": 3
   },
   "file_extension": ".py",
   "mimetype": "text/x-python",
   "name": "python",
   "nbconvert_exporter": "python",
   "pygments_lexer": "ipython3",
   "version": "3.11.8"
  }
 },
 "nbformat": 4,
 "nbformat_minor": 2
}
